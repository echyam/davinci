{
 "cells": [
  {
   "cell_type": "code",
   "execution_count": 1,
   "metadata": {},
   "outputs": [
    {
     "name": "stdout",
     "output_type": "stream",
     "text": [
      "%cache magic is now registered in ipython\n"
     ]
    }
   ],
   "source": [
    "import nltk\n",
    "import pandas as pd\n",
    "import seaborn as sns\n",
    "from sklearn.feature_extraction.text import TfidfVectorizer\n",
    "import numpy as np\n",
    "import bokeh\n",
    "import matplotlib.pyplot as plt\n",
    "import pylab as pl\n",
    "from ast import literal_eval\n",
    "import string\n",
    "import random\n",
    "import cache_magic"
   ]
  },
  {
   "cell_type": "code",
   "execution_count": 2,
   "metadata": {},
   "outputs": [],
   "source": [
    "import os"
   ]
  },
  {
   "cell_type": "code",
   "execution_count": 3,
   "metadata": {},
   "outputs": [],
   "source": [
    "DATA_MAG = \"/Users/pnguyen/Documents/DaVinci/Data/wine-reviews/winemag-data-130k-v2.csv\""
   ]
  },
  {
   "cell_type": "code",
   "execution_count": 4,
   "metadata": {},
   "outputs": [],
   "source": [
    "TOKENIZED_DATA_MAG = \"/Users/pnguyen/Documents/DaVinci/Data/wine-reviews/winemag-data-130k-v2-tokenized.csv\""
   ]
  },
  {
   "cell_type": "code",
   "execution_count": 5,
   "metadata": {},
   "outputs": [],
   "source": [
    "df = pd.read_csv(DATA_MAG, index_col=0)"
   ]
  },
  {
   "cell_type": "code",
   "execution_count": 6,
   "metadata": {
    "scrolled": true
   },
   "outputs": [
    {
     "data": {
      "text/html": [
       "<div>\n",
       "<style scoped>\n",
       "    .dataframe tbody tr th:only-of-type {\n",
       "        vertical-align: middle;\n",
       "    }\n",
       "\n",
       "    .dataframe tbody tr th {\n",
       "        vertical-align: top;\n",
       "    }\n",
       "\n",
       "    .dataframe thead th {\n",
       "        text-align: right;\n",
       "    }\n",
       "</style>\n",
       "<table border=\"1\" class=\"dataframe\">\n",
       "  <thead>\n",
       "    <tr style=\"text-align: right;\">\n",
       "      <th></th>\n",
       "      <th>country</th>\n",
       "      <th>description</th>\n",
       "      <th>designation</th>\n",
       "      <th>points</th>\n",
       "      <th>price</th>\n",
       "      <th>province</th>\n",
       "      <th>region_1</th>\n",
       "      <th>region_2</th>\n",
       "      <th>taster_name</th>\n",
       "      <th>taster_twitter_handle</th>\n",
       "      <th>title</th>\n",
       "      <th>variety</th>\n",
       "      <th>winery</th>\n",
       "    </tr>\n",
       "  </thead>\n",
       "  <tbody>\n",
       "    <tr>\n",
       "      <th>0</th>\n",
       "      <td>Italy</td>\n",
       "      <td>Aromas include tropical fruit, broom, brimston...</td>\n",
       "      <td>Vulkà Bianco</td>\n",
       "      <td>87</td>\n",
       "      <td>NaN</td>\n",
       "      <td>Sicily &amp; Sardinia</td>\n",
       "      <td>Etna</td>\n",
       "      <td>NaN</td>\n",
       "      <td>Kerin O’Keefe</td>\n",
       "      <td>@kerinokeefe</td>\n",
       "      <td>Nicosia 2013 Vulkà Bianco  (Etna)</td>\n",
       "      <td>White Blend</td>\n",
       "      <td>Nicosia</td>\n",
       "    </tr>\n",
       "    <tr>\n",
       "      <th>1</th>\n",
       "      <td>Portugal</td>\n",
       "      <td>This is ripe and fruity, a wine that is smooth...</td>\n",
       "      <td>Avidagos</td>\n",
       "      <td>87</td>\n",
       "      <td>15.0</td>\n",
       "      <td>Douro</td>\n",
       "      <td>NaN</td>\n",
       "      <td>NaN</td>\n",
       "      <td>Roger Voss</td>\n",
       "      <td>@vossroger</td>\n",
       "      <td>Quinta dos Avidagos 2011 Avidagos Red (Douro)</td>\n",
       "      <td>Portuguese Red</td>\n",
       "      <td>Quinta dos Avidagos</td>\n",
       "    </tr>\n",
       "    <tr>\n",
       "      <th>2</th>\n",
       "      <td>US</td>\n",
       "      <td>Tart and snappy, the flavors of lime flesh and...</td>\n",
       "      <td>NaN</td>\n",
       "      <td>87</td>\n",
       "      <td>14.0</td>\n",
       "      <td>Oregon</td>\n",
       "      <td>Willamette Valley</td>\n",
       "      <td>Willamette Valley</td>\n",
       "      <td>Paul Gregutt</td>\n",
       "      <td>@paulgwine</td>\n",
       "      <td>Rainstorm 2013 Pinot Gris (Willamette Valley)</td>\n",
       "      <td>Pinot Gris</td>\n",
       "      <td>Rainstorm</td>\n",
       "    </tr>\n",
       "    <tr>\n",
       "      <th>3</th>\n",
       "      <td>US</td>\n",
       "      <td>Pineapple rind, lemon pith and orange blossom ...</td>\n",
       "      <td>Reserve Late Harvest</td>\n",
       "      <td>87</td>\n",
       "      <td>13.0</td>\n",
       "      <td>Michigan</td>\n",
       "      <td>Lake Michigan Shore</td>\n",
       "      <td>NaN</td>\n",
       "      <td>Alexander Peartree</td>\n",
       "      <td>NaN</td>\n",
       "      <td>St. Julian 2013 Reserve Late Harvest Riesling ...</td>\n",
       "      <td>Riesling</td>\n",
       "      <td>St. Julian</td>\n",
       "    </tr>\n",
       "    <tr>\n",
       "      <th>4</th>\n",
       "      <td>US</td>\n",
       "      <td>Much like the regular bottling from 2012, this...</td>\n",
       "      <td>Vintner's Reserve Wild Child Block</td>\n",
       "      <td>87</td>\n",
       "      <td>65.0</td>\n",
       "      <td>Oregon</td>\n",
       "      <td>Willamette Valley</td>\n",
       "      <td>Willamette Valley</td>\n",
       "      <td>Paul Gregutt</td>\n",
       "      <td>@paulgwine</td>\n",
       "      <td>Sweet Cheeks 2012 Vintner's Reserve Wild Child...</td>\n",
       "      <td>Pinot Noir</td>\n",
       "      <td>Sweet Cheeks</td>\n",
       "    </tr>\n",
       "  </tbody>\n",
       "</table>\n",
       "</div>"
      ],
      "text/plain": [
       "    country                                        description  \\\n",
       "0     Italy  Aromas include tropical fruit, broom, brimston...   \n",
       "1  Portugal  This is ripe and fruity, a wine that is smooth...   \n",
       "2        US  Tart and snappy, the flavors of lime flesh and...   \n",
       "3        US  Pineapple rind, lemon pith and orange blossom ...   \n",
       "4        US  Much like the regular bottling from 2012, this...   \n",
       "\n",
       "                          designation  points  price           province  \\\n",
       "0                        Vulkà Bianco      87    NaN  Sicily & Sardinia   \n",
       "1                            Avidagos      87   15.0              Douro   \n",
       "2                                 NaN      87   14.0             Oregon   \n",
       "3                Reserve Late Harvest      87   13.0           Michigan   \n",
       "4  Vintner's Reserve Wild Child Block      87   65.0             Oregon   \n",
       "\n",
       "              region_1           region_2         taster_name  \\\n",
       "0                 Etna                NaN       Kerin O’Keefe   \n",
       "1                  NaN                NaN          Roger Voss   \n",
       "2    Willamette Valley  Willamette Valley        Paul Gregutt   \n",
       "3  Lake Michigan Shore                NaN  Alexander Peartree   \n",
       "4    Willamette Valley  Willamette Valley        Paul Gregutt   \n",
       "\n",
       "  taster_twitter_handle                                              title  \\\n",
       "0          @kerinokeefe                  Nicosia 2013 Vulkà Bianco  (Etna)   \n",
       "1            @vossroger      Quinta dos Avidagos 2011 Avidagos Red (Douro)   \n",
       "2           @paulgwine       Rainstorm 2013 Pinot Gris (Willamette Valley)   \n",
       "3                   NaN  St. Julian 2013 Reserve Late Harvest Riesling ...   \n",
       "4           @paulgwine   Sweet Cheeks 2012 Vintner's Reserve Wild Child...   \n",
       "\n",
       "          variety               winery  \n",
       "0     White Blend              Nicosia  \n",
       "1  Portuguese Red  Quinta dos Avidagos  \n",
       "2      Pinot Gris            Rainstorm  \n",
       "3        Riesling           St. Julian  \n",
       "4      Pinot Noir         Sweet Cheeks  "
      ]
     },
     "execution_count": 6,
     "metadata": {},
     "output_type": "execute_result"
    }
   ],
   "source": [
    "df.head()"
   ]
  },
  {
   "cell_type": "code",
   "execution_count": 7,
   "metadata": {},
   "outputs": [],
   "source": [
    "df.rename(columns={'variety': 'varietal'}, inplace=True)\n",
    "# gotta use the correct terminology\n",
    "# yes I'm a bit snobbish why'd you ask?\n",
    "# sorry not sorry"
   ]
  },
  {
   "cell_type": "code",
   "execution_count": 9,
   "metadata": {},
   "outputs": [
    {
     "data": {
      "text/plain": [
       "array([[<matplotlib.axes._subplots.AxesSubplot object at 0x1a252baeb8>]],\n",
       "      dtype=object)"
      ]
     },
     "execution_count": 9,
     "metadata": {},
     "output_type": "execute_result"
    },
    {
     "data": {
      "image/png": "[encoded data removed]",
      "text/plain": [
       "<Figure size 432x288 with 1 Axes>"
      ]
     },
     "metadata": {},
     "output_type": "display_data"
    }
   ],
   "source": [
    "df.hist(column = 'price', bins=100, log=True)"
   ]
  },
  {
   "cell_type": "code",
   "execution_count": 10,
   "metadata": {},
   "outputs": [
    {
     "data": {
      "text/plain": [
       "array([[<matplotlib.axes._subplots.AxesSubplot object at 0x1a252ba5f8>]],\n",
       "      dtype=object)"
      ]
     },
     "execution_count": 10,
     "metadata": {},
     "output_type": "execute_result"
    },
    {
     "data": {
      "image/png": "[encoded data removed]",
      "text/plain": [
       "<Figure size 432x288 with 1 Axes>"
      ]
     },
     "metadata": {},
     "output_type": "display_data"
    }
   ],
   "source": [
    "df.hist(column = 'points', bins=100)"
   ]
  },
  {
   "cell_type": "code",
   "execution_count": 11,
   "metadata": {},
   "outputs": [],
   "source": [
    "df['unique_taster'] = df['taster_name'] + df['taster_twitter_handle'].fillna('__notwitter')"
   ]
  },
  {
   "cell_type": "code",
   "execution_count": 12,
   "metadata": {},
   "outputs": [
    {
     "data": {
      "text/plain": [
       "Roger Voss@vossroger                25514\n",
       "Michael Schachner@wineschach        15134\n",
       "Kerin O’Keefe@kerinokeefe           10776\n",
       "Virginie Boone@vboone                9537\n",
       "Paul Gregutt@paulgwine               9532\n",
       "Matt Kettmann@mattkettmann           6332\n",
       "Joe Czerwinski@JoeCz                 5147\n",
       "Sean P. Sullivan@wawinereport        4966\n",
       "Anna Lee C. Iijima__notwitter        4415\n",
       "Jim Gordon@gordone_cellars           4177\n",
       "Anne Krebiehl MW@AnneInVino          3685\n",
       "Lauren Buzzeo@laurbuzz               1835\n",
       "Susan Kostrzewa@suskostrzewa         1085\n",
       "Mike DeSimone@worldwineguys           514\n",
       "Jeff Jenssen@worldwineguys            491\n",
       "Alexander Peartree__notwitter         415\n",
       "Carrie Dykes__notwitter               139\n",
       "Fiona Adams@bkfiona                    27\n",
       "Christina Pickard@winewchristina        6\n",
       "Name: unique_taster, dtype: int64"
      ]
     },
     "execution_count": 12,
     "metadata": {},
     "output_type": "execute_result"
    }
   ],
   "source": [
    "df['unique_taster'].value_counts()"
   ]
  },
  {
   "cell_type": "code",
   "execution_count": 13,
   "metadata": {},
   "outputs": [
    {
     "data": {
      "text/plain": [
       "<matplotlib.axes._subplots.AxesSubplot at 0x1a285a5d30>"
      ]
     },
     "execution_count": 13,
     "metadata": {},
     "output_type": "execute_result"
    },
    {
     "data": {
      "image/png": "[encoded data removed]",
      "text/plain": [
       "<Figure size 432x288 with 1 Axes>"
      ]
     },
     "metadata": {},
     "output_type": "display_data"
    }
   ],
   "source": [
    "fig, ax = plt.subplots()\n",
    "df['country'].value_counts().plot(ax=ax, kind='bar')"
   ]
  },
  {
   "cell_type": "markdown",
   "metadata": {},
   "source": [
    "A few countries makes up for most of the wines"
   ]
  },
  {
   "cell_type": "code",
   "execution_count": 14,
   "metadata": {},
   "outputs": [
    {
     "data": {
      "text/plain": [
       "279.48470588235296"
      ]
     },
     "execution_count": 14,
     "metadata": {},
     "output_type": "execute_result"
    },
    {
     "data": {
      "image/png": "[encoded data removed]",
      "text/plain": [
       "<Figure size 432x288 with 1 Axes>"
      ]
     },
     "metadata": {},
     "output_type": "display_data"
    }
   ],
   "source": [
    "df.groupby(by='province')['title'].nunique().hist(bins=100)\n",
    "df.groupby(by='province')['title'].nunique().mean() #number of wines per province on average"
   ]
  },
  {
   "cell_type": "code",
   "execution_count": 15,
   "metadata": {},
   "outputs": [
    {
     "data": {
      "text/plain": [
       "California          36247\n",
       "Washington           8639\n",
       "Bordeaux             5941\n",
       "Tuscany              5897\n",
       "Oregon               5373\n",
       "Burgundy             3980\n",
       "Northern Spain       3851\n",
       "Piedmont             3729\n",
       "Mendoza Province     3264\n",
       "Veneto               2716\n",
       "Name: province, dtype: int64"
      ]
     },
     "execution_count": 15,
     "metadata": {},
     "output_type": "execute_result"
    }
   ],
   "source": [
    "df['province'].value_counts()[:10]"
   ]
  },
  {
   "cell_type": "code",
   "execution_count": 16,
   "metadata": {},
   "outputs": [
    {
     "data": {
      "text/plain": [
       "Pinot Noir                  13272\n",
       "Chardonnay                  11753\n",
       "Cabernet Sauvignon           9472\n",
       "Red Blend                    8946\n",
       "Bordeaux-style Red Blend     6915\n",
       "Riesling                     5189\n",
       "Sauvignon Blanc              4967\n",
       "Syrah                        4142\n",
       "Rosé                         3564\n",
       "Merlot                       3102\n",
       "Nebbiolo                     2804\n",
       "Zinfandel                    2714\n",
       "Sangiovese                   2707\n",
       "Malbec                       2652\n",
       "Portuguese Red               2466\n",
       "White Blend                  2360\n",
       "Sparkling Blend              2153\n",
       "Tempranillo                  1810\n",
       "Rhône-style Red Blend        1471\n",
       "Pinot Gris                   1455\n",
       "Name: varietal, dtype: int64"
      ]
     },
     "execution_count": 16,
     "metadata": {},
     "output_type": "execute_result"
    }
   ],
   "source": [
    "df['varietal'].value_counts()[:20]"
   ]
  },
  {
   "cell_type": "markdown",
   "metadata": {},
   "source": [
    "The average (mean) province contributes about 300 wines to the list. But obviously some provinces dominate."
   ]
  },
  {
   "cell_type": "code",
   "execution_count": 17,
   "metadata": {},
   "outputs": [
    {
     "data": {
      "text/plain": [
       "<matplotlib.axes._subplots.AxesSubplot at 0x1a2bd70a90>"
      ]
     },
     "execution_count": 17,
     "metadata": {},
     "output_type": "execute_result"
    },
    {
     "data": {
      "image/png": "[encoded data removed]",
      "text/plain": [
       "<Figure size 432x288 with 1 Axes>"
      ]
     },
     "metadata": {},
     "output_type": "display_data"
    }
   ],
   "source": [
    "df['title'].value_counts().hist(bins=20, log=True)"
   ]
  },
  {
   "cell_type": "markdown",
   "metadata": {},
   "source": [
    "Most wines appear only once, but seems like a few appears multiple times"
   ]
  },
  {
   "cell_type": "code",
   "execution_count": 18,
   "metadata": {},
   "outputs": [
    {
     "data": {
      "text/plain": [
       "country    designation    \n",
       "US         Reserve            1485\n",
       "           Estate             1210\n",
       "Italy      Riserva             690\n",
       "US         Estate Grown        600\n",
       "Chile      Reserva             520\n",
       "France     Barrel sample       375\n",
       "Spain      Crianza             343\n",
       "US         Dry                 326\n",
       "France     Vieilles Vignes     301\n",
       "Spain      Reserva             270\n",
       "France     Barrel Sample       252\n",
       "US         Estate Bottled      252\n",
       "Portugal   Reserva             226\n",
       "Argentina  Reserva             224\n",
       "France     Tradition           221\n",
       "Italy      Brut                186\n",
       "US         Old Vine            185\n",
       "Italy      Extra Dry           180\n",
       "US         Rosé of             169\n",
       "France     Brut Rosé           165\n",
       "Name: designation, dtype: int64"
      ]
     },
     "execution_count": 18,
     "metadata": {},
     "output_type": "execute_result"
    }
   ],
   "source": [
    "df.groupby(by='country')['designation'].value_counts().nlargest(20)"
   ]
  },
  {
   "cell_type": "code",
   "execution_count": 19,
   "metadata": {},
   "outputs": [
    {
     "data": {
      "text/html": [
       "<div>\n",
       "<style scoped>\n",
       "    .dataframe tbody tr th:only-of-type {\n",
       "        vertical-align: middle;\n",
       "    }\n",
       "\n",
       "    .dataframe tbody tr th {\n",
       "        vertical-align: top;\n",
       "    }\n",
       "\n",
       "    .dataframe thead th {\n",
       "        text-align: right;\n",
       "    }\n",
       "</style>\n",
       "<table border=\"1\" class=\"dataframe\">\n",
       "  <thead>\n",
       "    <tr style=\"text-align: right;\">\n",
       "      <th></th>\n",
       "      <th>country</th>\n",
       "      <th>varietal</th>\n",
       "      <th>count</th>\n",
       "    </tr>\n",
       "  </thead>\n",
       "  <tbody>\n",
       "    <tr>\n",
       "      <th>0</th>\n",
       "      <td>US</td>\n",
       "      <td>Pinot Noir</td>\n",
       "      <td>9885</td>\n",
       "    </tr>\n",
       "    <tr>\n",
       "      <th>1</th>\n",
       "      <td>US</td>\n",
       "      <td>Cabernet Sauvignon</td>\n",
       "      <td>7315</td>\n",
       "    </tr>\n",
       "    <tr>\n",
       "      <th>2</th>\n",
       "      <td>US</td>\n",
       "      <td>Chardonnay</td>\n",
       "      <td>6801</td>\n",
       "    </tr>\n",
       "    <tr>\n",
       "      <th>3</th>\n",
       "      <td>France</td>\n",
       "      <td>Bordeaux-style Red Blend</td>\n",
       "      <td>4725</td>\n",
       "    </tr>\n",
       "    <tr>\n",
       "      <th>4</th>\n",
       "      <td>Italy</td>\n",
       "      <td>Red Blend</td>\n",
       "      <td>3624</td>\n",
       "    </tr>\n",
       "    <tr>\n",
       "      <th>5</th>\n",
       "      <td>US</td>\n",
       "      <td>Syrah</td>\n",
       "      <td>3244</td>\n",
       "    </tr>\n",
       "    <tr>\n",
       "      <th>6</th>\n",
       "      <td>US</td>\n",
       "      <td>Red Blend</td>\n",
       "      <td>2972</td>\n",
       "    </tr>\n",
       "    <tr>\n",
       "      <th>7</th>\n",
       "      <td>France</td>\n",
       "      <td>Chardonnay</td>\n",
       "      <td>2808</td>\n",
       "    </tr>\n",
       "    <tr>\n",
       "      <th>8</th>\n",
       "      <td>Italy</td>\n",
       "      <td>Nebbiolo</td>\n",
       "      <td>2736</td>\n",
       "    </tr>\n",
       "    <tr>\n",
       "      <th>9</th>\n",
       "      <td>US</td>\n",
       "      <td>Zinfandel</td>\n",
       "      <td>2711</td>\n",
       "    </tr>\n",
       "    <tr>\n",
       "      <th>10</th>\n",
       "      <td>Portugal</td>\n",
       "      <td>Portuguese Red</td>\n",
       "      <td>2466</td>\n",
       "    </tr>\n",
       "    <tr>\n",
       "      <th>11</th>\n",
       "      <td>US</td>\n",
       "      <td>Merlot</td>\n",
       "      <td>2311</td>\n",
       "    </tr>\n",
       "    <tr>\n",
       "      <th>12</th>\n",
       "      <td>Italy</td>\n",
       "      <td>Sangiovese</td>\n",
       "      <td>2265</td>\n",
       "    </tr>\n",
       "    <tr>\n",
       "      <th>13</th>\n",
       "      <td>US</td>\n",
       "      <td>Sauvignon Blanc</td>\n",
       "      <td>2163</td>\n",
       "    </tr>\n",
       "    <tr>\n",
       "      <th>14</th>\n",
       "      <td>France</td>\n",
       "      <td>Pinot Noir</td>\n",
       "      <td>1966</td>\n",
       "    </tr>\n",
       "    <tr>\n",
       "      <th>15</th>\n",
       "      <td>France</td>\n",
       "      <td>Rosé</td>\n",
       "      <td>1923</td>\n",
       "    </tr>\n",
       "    <tr>\n",
       "      <th>16</th>\n",
       "      <td>US</td>\n",
       "      <td>Bordeaux-style Red Blend</td>\n",
       "      <td>1824</td>\n",
       "    </tr>\n",
       "    <tr>\n",
       "      <th>17</th>\n",
       "      <td>Germany</td>\n",
       "      <td>Riesling</td>\n",
       "      <td>1790</td>\n",
       "    </tr>\n",
       "    <tr>\n",
       "      <th>18</th>\n",
       "      <td>US</td>\n",
       "      <td>Riesling</td>\n",
       "      <td>1753</td>\n",
       "    </tr>\n",
       "    <tr>\n",
       "      <th>19</th>\n",
       "      <td>Argentina</td>\n",
       "      <td>Malbec</td>\n",
       "      <td>1510</td>\n",
       "    </tr>\n",
       "    <tr>\n",
       "      <th>20</th>\n",
       "      <td>Spain</td>\n",
       "      <td>Tempranillo</td>\n",
       "      <td>1429</td>\n",
       "    </tr>\n",
       "    <tr>\n",
       "      <th>21</th>\n",
       "      <td>France</td>\n",
       "      <td>Champagne Blend</td>\n",
       "      <td>1243</td>\n",
       "    </tr>\n",
       "    <tr>\n",
       "      <th>22</th>\n",
       "      <td>Austria</td>\n",
       "      <td>Grüner Veltliner</td>\n",
       "      <td>1234</td>\n",
       "    </tr>\n",
       "    <tr>\n",
       "      <th>23</th>\n",
       "      <td>Portugal</td>\n",
       "      <td>Portuguese White</td>\n",
       "      <td>1159</td>\n",
       "    </tr>\n",
       "    <tr>\n",
       "      <th>24</th>\n",
       "      <td>France</td>\n",
       "      <td>Bordeaux-style White Blend</td>\n",
       "      <td>1021</td>\n",
       "    </tr>\n",
       "    <tr>\n",
       "      <th>25</th>\n",
       "      <td>France</td>\n",
       "      <td>Gamay</td>\n",
       "      <td>1020</td>\n",
       "    </tr>\n",
       "    <tr>\n",
       "      <th>26</th>\n",
       "      <td>US</td>\n",
       "      <td>Cabernet Franc</td>\n",
       "      <td>1003</td>\n",
       "    </tr>\n",
       "    <tr>\n",
       "      <th>27</th>\n",
       "      <td>France</td>\n",
       "      <td>Sauvignon Blanc</td>\n",
       "      <td>933</td>\n",
       "    </tr>\n",
       "    <tr>\n",
       "      <th>28</th>\n",
       "      <td>US</td>\n",
       "      <td>Rosé</td>\n",
       "      <td>907</td>\n",
       "    </tr>\n",
       "    <tr>\n",
       "      <th>29</th>\n",
       "      <td>US</td>\n",
       "      <td>Pinot Gris</td>\n",
       "      <td>868</td>\n",
       "    </tr>\n",
       "    <tr>\n",
       "      <th>...</th>\n",
       "      <td>...</td>\n",
       "      <td>...</td>\n",
       "      <td>...</td>\n",
       "    </tr>\n",
       "    <tr>\n",
       "      <th>270</th>\n",
       "      <td>Austria</td>\n",
       "      <td>Weissburgunder</td>\n",
       "      <td>33</td>\n",
       "    </tr>\n",
       "    <tr>\n",
       "      <th>271</th>\n",
       "      <td>Greece</td>\n",
       "      <td>Xinomavro</td>\n",
       "      <td>33</td>\n",
       "    </tr>\n",
       "    <tr>\n",
       "      <th>272</th>\n",
       "      <td>Italy</td>\n",
       "      <td>Insolia</td>\n",
       "      <td>33</td>\n",
       "    </tr>\n",
       "    <tr>\n",
       "      <th>273</th>\n",
       "      <td>Italy</td>\n",
       "      <td>Müller-Thurgau</td>\n",
       "      <td>33</td>\n",
       "    </tr>\n",
       "    <tr>\n",
       "      <th>274</th>\n",
       "      <td>Spain</td>\n",
       "      <td>Sauvignon Blanc</td>\n",
       "      <td>33</td>\n",
       "    </tr>\n",
       "    <tr>\n",
       "      <th>275</th>\n",
       "      <td>US</td>\n",
       "      <td>Claret</td>\n",
       "      <td>33</td>\n",
       "    </tr>\n",
       "    <tr>\n",
       "      <th>276</th>\n",
       "      <td>US</td>\n",
       "      <td>Muscat</td>\n",
       "      <td>33</td>\n",
       "    </tr>\n",
       "    <tr>\n",
       "      <th>277</th>\n",
       "      <td>Argentina</td>\n",
       "      <td>White Blend</td>\n",
       "      <td>32</td>\n",
       "    </tr>\n",
       "    <tr>\n",
       "      <th>278</th>\n",
       "      <td>Austria</td>\n",
       "      <td>Pinot Blanc</td>\n",
       "      <td>32</td>\n",
       "    </tr>\n",
       "    <tr>\n",
       "      <th>279</th>\n",
       "      <td>Georgia</td>\n",
       "      <td>Saperavi</td>\n",
       "      <td>32</td>\n",
       "    </tr>\n",
       "    <tr>\n",
       "      <th>280</th>\n",
       "      <td>Australia</td>\n",
       "      <td>Shiraz-Cabernet Sauvignon</td>\n",
       "      <td>31</td>\n",
       "    </tr>\n",
       "    <tr>\n",
       "      <th>281</th>\n",
       "      <td>France</td>\n",
       "      <td>Tannat-Cabernet</td>\n",
       "      <td>31</td>\n",
       "    </tr>\n",
       "    <tr>\n",
       "      <th>282</th>\n",
       "      <td>Italy</td>\n",
       "      <td>Cannonau</td>\n",
       "      <td>31</td>\n",
       "    </tr>\n",
       "    <tr>\n",
       "      <th>283</th>\n",
       "      <td>Italy</td>\n",
       "      <td>Zibibbo</td>\n",
       "      <td>31</td>\n",
       "    </tr>\n",
       "    <tr>\n",
       "      <th>284</th>\n",
       "      <td>US</td>\n",
       "      <td>Cinsault</td>\n",
       "      <td>31</td>\n",
       "    </tr>\n",
       "    <tr>\n",
       "      <th>285</th>\n",
       "      <td>US</td>\n",
       "      <td>Lemberger</td>\n",
       "      <td>31</td>\n",
       "    </tr>\n",
       "    <tr>\n",
       "      <th>286</th>\n",
       "      <td>Australia</td>\n",
       "      <td>Rosé</td>\n",
       "      <td>30</td>\n",
       "    </tr>\n",
       "    <tr>\n",
       "      <th>287</th>\n",
       "      <td>Italy</td>\n",
       "      <td>Inzolia</td>\n",
       "      <td>30</td>\n",
       "    </tr>\n",
       "    <tr>\n",
       "      <th>288</th>\n",
       "      <td>South Africa</td>\n",
       "      <td>Pinot Noir</td>\n",
       "      <td>30</td>\n",
       "    </tr>\n",
       "    <tr>\n",
       "      <th>289</th>\n",
       "      <td>Spain</td>\n",
       "      <td>Graciano</td>\n",
       "      <td>30</td>\n",
       "    </tr>\n",
       "    <tr>\n",
       "      <th>290</th>\n",
       "      <td>Spain</td>\n",
       "      <td>Tempranillo-Garnacha</td>\n",
       "      <td>30</td>\n",
       "    </tr>\n",
       "    <tr>\n",
       "      <th>291</th>\n",
       "      <td>US</td>\n",
       "      <td>Carignane</td>\n",
       "      <td>30</td>\n",
       "    </tr>\n",
       "    <tr>\n",
       "      <th>292</th>\n",
       "      <td>Argentina</td>\n",
       "      <td>Sparkling Blend</td>\n",
       "      <td>29</td>\n",
       "    </tr>\n",
       "    <tr>\n",
       "      <th>293</th>\n",
       "      <td>Australia</td>\n",
       "      <td>Bordeaux-style Red Blend</td>\n",
       "      <td>29</td>\n",
       "    </tr>\n",
       "    <tr>\n",
       "      <th>294</th>\n",
       "      <td>Italy</td>\n",
       "      <td>Catarratto</td>\n",
       "      <td>29</td>\n",
       "    </tr>\n",
       "    <tr>\n",
       "      <th>295</th>\n",
       "      <td>Portugal</td>\n",
       "      <td>Baga</td>\n",
       "      <td>29</td>\n",
       "    </tr>\n",
       "    <tr>\n",
       "      <th>296</th>\n",
       "      <td>Portugal</td>\n",
       "      <td>Loureiro</td>\n",
       "      <td>29</td>\n",
       "    </tr>\n",
       "    <tr>\n",
       "      <th>297</th>\n",
       "      <td>Australia</td>\n",
       "      <td>Pinot Grigio</td>\n",
       "      <td>28</td>\n",
       "    </tr>\n",
       "    <tr>\n",
       "      <th>298</th>\n",
       "      <td>Chile</td>\n",
       "      <td>Cabernet Blend</td>\n",
       "      <td>28</td>\n",
       "    </tr>\n",
       "    <tr>\n",
       "      <th>299</th>\n",
       "      <td>France</td>\n",
       "      <td>Chenin Blanc-Chardonnay</td>\n",
       "      <td>28</td>\n",
       "    </tr>\n",
       "  </tbody>\n",
       "</table>\n",
       "<p>300 rows × 3 columns</p>\n",
       "</div>"
      ],
      "text/plain": [
       "          country                    varietal  count\n",
       "0              US                  Pinot Noir   9885\n",
       "1              US          Cabernet Sauvignon   7315\n",
       "2              US                  Chardonnay   6801\n",
       "3          France    Bordeaux-style Red Blend   4725\n",
       "4           Italy                   Red Blend   3624\n",
       "5              US                       Syrah   3244\n",
       "6              US                   Red Blend   2972\n",
       "7          France                  Chardonnay   2808\n",
       "8           Italy                    Nebbiolo   2736\n",
       "9              US                   Zinfandel   2711\n",
       "10       Portugal              Portuguese Red   2466\n",
       "11             US                      Merlot   2311\n",
       "12          Italy                  Sangiovese   2265\n",
       "13             US             Sauvignon Blanc   2163\n",
       "14         France                  Pinot Noir   1966\n",
       "15         France                        Rosé   1923\n",
       "16             US    Bordeaux-style Red Blend   1824\n",
       "17        Germany                    Riesling   1790\n",
       "18             US                    Riesling   1753\n",
       "19      Argentina                      Malbec   1510\n",
       "20          Spain                 Tempranillo   1429\n",
       "21         France             Champagne Blend   1243\n",
       "22        Austria            Grüner Veltliner   1234\n",
       "23       Portugal            Portuguese White   1159\n",
       "24         France  Bordeaux-style White Blend   1021\n",
       "25         France                       Gamay   1020\n",
       "26             US              Cabernet Franc   1003\n",
       "27         France             Sauvignon Blanc    933\n",
       "28             US                        Rosé    907\n",
       "29             US                  Pinot Gris    868\n",
       "..            ...                         ...    ...\n",
       "270       Austria              Weissburgunder     33\n",
       "271        Greece                   Xinomavro     33\n",
       "272         Italy                     Insolia     33\n",
       "273         Italy              Müller-Thurgau     33\n",
       "274         Spain             Sauvignon Blanc     33\n",
       "275            US                      Claret     33\n",
       "276            US                      Muscat     33\n",
       "277     Argentina                 White Blend     32\n",
       "278       Austria                 Pinot Blanc     32\n",
       "279       Georgia                    Saperavi     32\n",
       "280     Australia   Shiraz-Cabernet Sauvignon     31\n",
       "281        France             Tannat-Cabernet     31\n",
       "282         Italy                    Cannonau     31\n",
       "283         Italy                     Zibibbo     31\n",
       "284            US                    Cinsault     31\n",
       "285            US                   Lemberger     31\n",
       "286     Australia                        Rosé     30\n",
       "287         Italy                     Inzolia     30\n",
       "288  South Africa                  Pinot Noir     30\n",
       "289         Spain                    Graciano     30\n",
       "290         Spain        Tempranillo-Garnacha     30\n",
       "291            US                   Carignane     30\n",
       "292     Argentina             Sparkling Blend     29\n",
       "293     Australia    Bordeaux-style Red Blend     29\n",
       "294         Italy                  Catarratto     29\n",
       "295      Portugal                        Baga     29\n",
       "296      Portugal                    Loureiro     29\n",
       "297     Australia                Pinot Grigio     28\n",
       "298         Chile              Cabernet Blend     28\n",
       "299        France     Chenin Blanc-Chardonnay     28\n",
       "\n",
       "[300 rows x 3 columns]"
      ]
     },
     "execution_count": 19,
     "metadata": {},
     "output_type": "execute_result"
    }
   ],
   "source": [
    "top_grape_country = df.groupby(by='country')['varietal'].value_counts().nlargest(300).to_frame('count').reset_index()\n",
    "top_grape_country"
   ]
  },
  {
   "cell_type": "code",
   "execution_count": 20,
   "metadata": {
    "scrolled": true
   },
   "outputs": [
    {
     "name": "stdout",
     "output_type": "stream",
     "text": [
      "Aromas include tropical fruit, broom, brimstone and dried herb. The palate isn't overly expressive, offering unripened apple, citrus and dried sage alongside brisk acidity.\n",
      "\n",
      "\n",
      "This is ripe and fruity, a wine that is smooth while still structured. Firm tannins are filled out with juicy red berry fruits and freshened with acidity. It's  already drinkable, although it will certainly be better from 2016.\n",
      "\n",
      "\n",
      "Tart and snappy, the flavors of lime flesh and rind dominate. Some green pineapple pokes through, with crisp acidity underscoring the flavors. The wine was all stainless-steel fermented.\n",
      "\n",
      "\n",
      "Pineapple rind, lemon pith and orange blossom start off the aromas. The palate is a bit more opulent, with notes of honey-drizzled guava and mango giving way to a slightly astringent, semidry finish.\n",
      "\n",
      "\n",
      "Much like the regular bottling from 2012, this comes across as rather rough and tannic, with rustic, earthy, herbal characteristics. Nonetheless, if you think of it as a pleasantly unfussy country wine, it's a good companion to a hearty winter stew.\n",
      "\n",
      "\n"
     ]
    }
   ],
   "source": [
    "for i in range(5):\n",
    "    print(df['description'][i])\n",
    "    print('\\n')"
   ]
  },
  {
   "cell_type": "code",
   "execution_count": 21,
   "metadata": {},
   "outputs": [],
   "source": [
    "country_df = df.groupby(by='country').agg({'points':'median','price':'median','description':'; '.join})\n",
    "varietal_df = df.groupby(by='varietal').agg({'points':'median','price':'median','description':'; '.join})\n",
    "country_varietal_df = df.groupby(by=['country','varietal']).agg({'points':'median','price':'median','description':'; '.join})"
   ]
  },
  {
   "cell_type": "code",
   "execution_count": 22,
   "metadata": {},
   "outputs": [],
   "source": [
    "remove = set(nltk.corpus.stopwords.words('english') + [p for p in string.punctuation])\n",
    "#use set to improve performance\n",
    "\n",
    "def clean_tokenizer(text):\n",
    "    \"\"\"Turn long text into lowercase tokens, remove punctuations & stopwords\n",
    "    e.g: Aromas include tropical fruit, broom, brimstone and dried herb.-->\n",
    "    ['aromas', 'include', 'tropical', 'fruit', 'broom', 'brimstone',\n",
    "    'dried', 'herb']\"\"\"\n",
    "    tokens = nltk.tokenize.word_tokenize(text.lower())\n",
    "    \n",
    "    clean_tokens = (t for t in tokens if not t in remove)\n",
    "    \n",
    "    return list(clean_tokens)\n",
    "\n",
    "tfidf = TfidfVectorizer(lowercase=False, tokenizer=clean_tokenizer, token_pattern=None, stop_words=None)"
   ]
  },
  {
   "cell_type": "code",
   "execution_count": null,
   "metadata": {
    "scrolled": true
   },
   "outputs": [
    {
     "name": "stdout",
     "output_type": "stream",
     "text": [
      "creating new value for variable 'tfidf_matrix'\n"
     ]
    }
   ],
   "source": [
    "%cache tfidf_matrix = tfidf.fit_transform(varietal_df['description'])"
   ]
  },
  {
   "cell_type": "code",
   "execution_count": 53,
   "metadata": {},
   "outputs": [
    {
     "data": {
      "text/plain": [
       "(707, 45926)"
      ]
     },
     "execution_count": 53,
     "metadata": {},
     "output_type": "execute_result"
    }
   ],
   "source": [
    "tfidf_matrix.shape"
   ]
  },
  {
   "cell_type": "code",
   "execution_count": 67,
   "metadata": {},
   "outputs": [],
   "source": [
    "def top_tfidf_feats(tfidf_row, features, n_feats=25):\n",
    "    ''' Get top n tfidf values in row and return them with their corresponding feature names.'''\n",
    "    top_ids = np.argsort(tfidf_row)[::-1][:n_feats]\n",
    "    # sort features in row (by tfidf score) -> ascending\n",
    "    # then reverse to get descending, then slice top n\n",
    "    \n",
    "    top_features = [(features[i], tfidf_row[i]) for i in top_ids]\n",
    "    df = pd.DataFrame(top_features) # return as a Dataframe\n",
    "    df.columns = ['feature', 'tfidf']\n",
    "    return df\n",
    "\n",
    "def top_feats_in_doc(tfidf_matrix, features, row_id, n_feats=25):\n",
    "    ''' Top tfidf features in specific document (matrix row)\n",
    "    Gotta call this instead of top_tf_idf_feats because tfidf\n",
    "    is sparse matrix -> does not support all matrix operations.\n",
    "    '''\n",
    "    # first convert a row to full matrix format\n",
    "    row = np.squeeze(tfidf_matrix[row_id].toarray())\n",
    "    \n",
    "    # return a df\n",
    "    return top_tfidf_feats(row, features, n_feats)"
   ]
  },
  {
   "cell_type": "code",
   "execution_count": 72,
   "metadata": {},
   "outputs": [],
   "source": [
    "features = tfidf.get_feature_names()\n",
    "\n",
    "def look_at(varietal_name, n_feats=10):\n",
    "    row = varietal_df.loc[varietal_name]\n",
    "    row_id = varietal_df.index.get_loc(row.name)\n",
    "    print(top_feats_in_doc(tfidf_matrix, features,row_id, n_feats=n_feats))\n",
    "\n",
    "def look_at_random(n=10, n_feats=10):\n",
    "    '''Look at n random wines'''\n",
    "    row_ids = random.sample(range(1, 100), n)\n",
    "    print(varietal_df.index.values[row_id])\n",
    "    print(top_feats_in_doc(tfidf_matrix, features,row_id, n_feats=n_feats))"
   ]
  },
  {
   "cell_type": "code",
   "execution_count": 90,
   "metadata": {},
   "outputs": [
    {
     "name": "stdout",
     "output_type": "stream",
     "text": [
      "_________________\n",
      "Pinot Noir\n",
      "     feature     tfidf\n",
      "0      pinot  0.312432\n",
      "1     cherry  0.279438\n",
      "2       wine  0.257889\n",
      "3         's  0.232542\n",
      "4       noir  0.202146\n",
      "5    flavors  0.197403\n",
      "6      fruit  0.189946\n",
      "7    tannins  0.154836\n",
      "8  raspberry  0.143932\n",
      "9        red  0.138181\n",
      "_________________\n",
      "Chardonnay\n",
      "      feature     tfidf\n",
      "0  chardonnay  0.332997\n",
      "1        wine  0.274441\n",
      "2     flavors  0.244246\n",
      "3       apple  0.230164\n",
      "4          's  0.199466\n",
      "5     acidity  0.190656\n",
      "6         oak  0.171922\n",
      "7       fruit  0.161847\n",
      "8        pear  0.149203\n",
      "9        ripe  0.133856\n",
      "_________________\n",
      "Cabernet Sauvignon\n",
      "      feature     tfidf\n",
      "0    cabernet  0.329712\n",
      "1     flavors  0.233849\n",
      "2     tannins  0.232703\n",
      "3          's  0.227077\n",
      "4       black  0.223238\n",
      "5        wine  0.196039\n",
      "6      cherry  0.192948\n",
      "7  blackberry  0.182920\n",
      "8         oak  0.177247\n",
      "9      cassis  0.155751\n",
      "_________________\n",
      "Red Blend\n",
      "     feature     tfidf\n",
      "0   cabernet  0.287688\n",
      "1      blend  0.262390\n",
      "2     cherry  0.232098\n",
      "3      black  0.225999\n",
      "4    tannins  0.215612\n",
      "5     merlot  0.208862\n",
      "6  sauvignon  0.184659\n",
      "7     aromas  0.179261\n",
      "8      syrah  0.171820\n",
      "9     palate  0.163262\n",
      "_________________\n",
      "Bordeaux-style Red Blend\n",
      "     feature     tfidf\n",
      "0       wine  0.349195\n",
      "1   cabernet  0.307076\n",
      "2    tannins  0.303836\n",
      "3     merlot  0.212225\n",
      "4      fruit  0.193300\n",
      "5      black  0.178160\n",
      "6      drink  0.158034\n",
      "7     fruits  0.157921\n",
      "8      franc  0.156290\n",
      "9  sauvignon  0.153237\n",
      "_________________\n",
      "Riesling\n",
      "    feature     tfidf\n",
      "0  riesling  0.493760\n",
      "1        's  0.222390\n",
      "2       dry  0.183787\n",
      "3    palate  0.179575\n",
      "4   flavors  0.177225\n",
      "5     lemon  0.171779\n",
      "6    finish  0.163491\n",
      "7   acidity  0.149759\n",
      "8     peach  0.146168\n",
      "9     apple  0.145673\n",
      "_________________\n",
      "Sauvignon Blanc\n",
      "      feature     tfidf\n",
      "0        wine  0.265853\n",
      "1   sauvignon  0.261940\n",
      "2       blanc  0.256010\n",
      "3     flavors  0.249444\n",
      "4          's  0.208369\n",
      "5      citrus  0.192971\n",
      "6       green  0.190443\n",
      "7  grapefruit  0.166133\n",
      "8        lime  0.165208\n",
      "9     acidity  0.163341\n",
      "_________________\n",
      "Syrah\n",
      "      feature     tfidf\n",
      "0       syrah  0.406611\n",
      "1       black  0.243672\n",
      "2     flavors  0.238984\n",
      "3          's  0.226219\n",
      "4       fruit  0.208188\n",
      "5        wine  0.188738\n",
      "6      pepper  0.177444\n",
      "7  blackberry  0.173236\n",
      "8     tannins  0.158209\n",
      "9      aromas  0.141417\n",
      "_________________\n",
      "Rosé\n",
      "      feature     tfidf\n",
      "0        rosé  0.404168\n",
      "1        wine  0.305590\n",
      "2     acidity  0.222671\n",
      "3         red  0.198815\n",
      "4  strawberry  0.184530\n",
      "5     flavors  0.168404\n",
      "6       crisp  0.165705\n",
      "7          's  0.159318\n",
      "8       drink  0.148966\n",
      "9       light  0.143817\n",
      "_________________\n",
      "Merlot\n",
      "   feature     tfidf\n",
      "0   merlot  0.480900\n",
      "1   cherry  0.246652\n",
      "2  flavors  0.245283\n",
      "3  tannins  0.218850\n",
      "4       's  0.205095\n",
      "5     wine  0.195297\n",
      "6    fruit  0.180396\n",
      "7    black  0.168020\n",
      "8     plum  0.138846\n",
      "9      oak  0.135403\n",
      "_________________\n",
      "Nebbiolo\n",
      "     feature     tfidf\n",
      "0    tannins  0.307190\n",
      "1     cherry  0.286848\n",
      "2     aromas  0.204360\n",
      "3      berry  0.202984\n",
      "4     palate  0.202849\n",
      "5     barolo  0.189832\n",
      "6   licorice  0.165197\n",
      "7      black  0.150953\n",
      "8  alongside  0.144566\n",
      "9      spice  0.139996\n",
      "_________________\n",
      "Zinfandel\n",
      "      feature     tfidf\n",
      "0         zin  0.440742\n",
      "1   zinfandel  0.248927\n",
      "2          's  0.231292\n",
      "3     flavors  0.218765\n",
      "4        wine  0.213886\n",
      "5  blackberry  0.172567\n",
      "6       black  0.148375\n",
      "7     tannins  0.140238\n",
      "8       fruit  0.133614\n",
      "9      pepper  0.133395\n",
      "_________________\n",
      "Sangiovese\n",
      "      feature     tfidf\n",
      "0      cherry  0.338135\n",
      "1     tannins  0.282651\n",
      "2  sangiovese  0.225640\n",
      "3      palate  0.211886\n",
      "4       black  0.208522\n",
      "5      aromas  0.206659\n",
      "6       berry  0.162275\n",
      "7   alongside  0.155603\n",
      "8     leather  0.138151\n",
      "9  underbrush  0.136956\n",
      "_________________\n",
      "Malbec\n",
      "      feature     tfidf\n",
      "0      malbec  0.399653\n",
      "1     flavors  0.273864\n",
      "2       berry  0.248955\n",
      "3      aromas  0.213530\n",
      "4      finish  0.203295\n",
      "5        plum  0.191812\n",
      "6  blackberry  0.189063\n",
      "7       black  0.169818\n",
      "8        wine  0.160704\n",
      "9     tannins  0.151769\n",
      "_________________\n",
      "Portuguese Red\n",
      "   feature     tfidf\n",
      "0     wine  0.419575\n",
      "1  tannins  0.319505\n",
      "2   fruits  0.260347\n",
      "3    drink  0.251560\n",
      "4    black  0.181239\n",
      "5     ripe  0.172336\n",
      "6  acidity  0.163388\n",
      "7     rich  0.153347\n",
      "8    aging  0.142940\n",
      "9  touriga  0.136695\n",
      "_________________\n",
      "White Blend\n",
      "      feature     tfidf\n",
      "0       blend  0.329944\n",
      "1       white  0.226477\n",
      "2  chardonnay  0.209067\n",
      "3        wine  0.203289\n",
      "4       blanc  0.192843\n",
      "5     flavors  0.178813\n",
      "6      aromas  0.175349\n",
      "7       apple  0.169481\n",
      "8       fruit  0.163640\n",
      "9      palate  0.163568\n",
      "_________________\n",
      "Sparkling Blend\n",
      "      feature     tfidf\n",
      "0       apple  0.290081\n",
      "1       pinot  0.229174\n",
      "2     flavors  0.207591\n",
      "3  chardonnay  0.206435\n",
      "4      palate  0.196182\n",
      "5   sparkling  0.174674\n",
      "6      finish  0.164255\n",
      "7        noir  0.160904\n",
      "8          's  0.153516\n",
      "9         dry  0.153308\n",
      "_________________\n",
      "Tempranillo\n",
      "       feature     tfidf\n",
      "0      flavors  0.303195\n",
      "1        berry  0.292676\n",
      "2       aromas  0.256085\n",
      "3         plum  0.244024\n",
      "4       finish  0.229044\n",
      "5          oak  0.173047\n",
      "6       palate  0.163085\n",
      "7       cherry  0.153360\n",
      "8  tempranillo  0.151732\n",
      "9   blackberry  0.134549\n",
      "_________________\n",
      "Rhône-style Red Blend\n",
      "     feature     tfidf\n",
      "0   grenache  0.415503\n",
      "1      syrah  0.366859\n",
      "2  mourvèdre  0.355796\n",
      "3      blend  0.233916\n",
      "4      black  0.170403\n",
      "5         's  0.165963\n",
      "6      fruit  0.152004\n",
      "7     cherry  0.146821\n",
      "8       wine  0.141280\n",
      "9    flavors  0.139000\n",
      "_________________\n",
      "Pinot Gris\n",
      "   feature     tfidf\n",
      "0     gris  0.391933\n",
      "1     pear  0.356032\n",
      "2    pinot  0.288085\n",
      "3     wine  0.211859\n",
      "4    fruit  0.199810\n",
      "5  flavors  0.196422\n",
      "6    apple  0.176505\n",
      "7       's  0.174354\n",
      "8      dry  0.137006\n",
      "9   finish  0.127332\n"
     ]
    }
   ],
   "source": [
    "common_wines = df['varietal'].value_counts()[:20].index.tolist()\n",
    "for wine in common_wines:\n",
    "    print('_________________')\n",
    "    print(wine)\n",
    "    look_at(wine, n_feats=10)"
   ]
  },
  {
   "cell_type": "code",
   "execution_count": null,
   "metadata": {},
   "outputs": [],
   "source": []
  },
  {
   "cell_type": "code",
   "execution_count": null,
   "metadata": {},
   "outputs": [],
   "source": [
    "top = df[df['country'].isin(top_grape_country['country']) & df['varietal'].isin(top_grape_country['varietal'])]\n",
    "# remember to use & not 'and'. The latter will try to compare Series --> ambiguous truth value"
   ]
  },
  {
   "cell_type": "code",
   "execution_count": null,
   "metadata": {
    "scrolled": true
   },
   "outputs": [],
   "source": [
    "len(top)/len(df)"
   ]
  },
  {
   "cell_type": "code",
   "execution_count": null,
   "metadata": {
    "scrolled": false
   },
   "outputs": [],
   "source": [
    "len(df.groupby(by='country')['varietal'].value_counts())"
   ]
  },
  {
   "cell_type": "markdown",
   "metadata": {},
   "source": [
    "Picking out the top 300 most common grapes + country combination out of 1612 possible values still leaves us with 96% of the bottles."
   ]
  },
  {
   "cell_type": "code",
   "execution_count": null,
   "metadata": {},
   "outputs": [],
   "source": [
    "varietal_df = varietal_group.agg({'points':'median','price':'median','tokenized_desc':'sum'})"
   ]
  },
  {
   "cell_type": "code",
   "execution_count": 8,
   "metadata": {},
   "outputs": [
    {
     "ename": "KeyError",
     "evalue": "'tokenized_desc'",
     "output_type": "error",
     "traceback": [
      "\u001b[0;31m---------------------------------------------------------------------------\u001b[0m",
      "\u001b[0;31mKeyError\u001b[0m                                  Traceback (most recent call last)",
      "\u001b[0;32m~/.pyenv/versions/anaconda3-5.2.0/envs/davinci/lib/python3.6/site-packages/pandas/core/indexes/base.py\u001b[0m in \u001b[0;36mget_loc\u001b[0;34m(self, key, method, tolerance)\u001b[0m\n\u001b[1;32m   3077\u001b[0m             \u001b[0;32mtry\u001b[0m\u001b[0;34m:\u001b[0m\u001b[0;34m\u001b[0m\u001b[0m\n\u001b[0;32m-> 3078\u001b[0;31m                 \u001b[0;32mreturn\u001b[0m \u001b[0mself\u001b[0m\u001b[0;34m.\u001b[0m\u001b[0m_engine\u001b[0m\u001b[0;34m.\u001b[0m\u001b[0mget_loc\u001b[0m\u001b[0;34m(\u001b[0m\u001b[0mkey\u001b[0m\u001b[0;34m)\u001b[0m\u001b[0;34m\u001b[0m\u001b[0m\n\u001b[0m\u001b[1;32m   3079\u001b[0m             \u001b[0;32mexcept\u001b[0m \u001b[0mKeyError\u001b[0m\u001b[0;34m:\u001b[0m\u001b[0;34m\u001b[0m\u001b[0m\n",
      "\u001b[0;32mpandas/_libs/index.pyx\u001b[0m in \u001b[0;36mpandas._libs.index.IndexEngine.get_loc\u001b[0;34m()\u001b[0m\n",
      "\u001b[0;32mpandas/_libs/index.pyx\u001b[0m in \u001b[0;36mpandas._libs.index.IndexEngine.get_loc\u001b[0;34m()\u001b[0m\n",
      "\u001b[0;32mpandas/_libs/hashtable_class_helper.pxi\u001b[0m in \u001b[0;36mpandas._libs.hashtable.PyObjectHashTable.get_item\u001b[0;34m()\u001b[0m\n",
      "\u001b[0;32mpandas/_libs/hashtable_class_helper.pxi\u001b[0m in \u001b[0;36mpandas._libs.hashtable.PyObjectHashTable.get_item\u001b[0;34m()\u001b[0m\n",
      "\u001b[0;31mKeyError\u001b[0m: 'tokenized_desc'",
      "\nDuring handling of the above exception, another exception occurred:\n",
      "\u001b[0;31mKeyError\u001b[0m                                  Traceback (most recent call last)",
      "\u001b[0;32m<ipython-input-8-ac400659aee8>\u001b[0m in \u001b[0;36m<module>\u001b[0;34m()\u001b[0m\n\u001b[0;32m----> 1\u001b[0;31m \u001b[0mdf\u001b[0m\u001b[0;34m[\u001b[0m\u001b[0;34m'tokenized_desc'\u001b[0m\u001b[0;34m]\u001b[0m\u001b[0;34m=\u001b[0m\u001b[0mdf\u001b[0m\u001b[0;34m[\u001b[0m\u001b[0;34m'tokenized_desc'\u001b[0m\u001b[0;34m]\u001b[0m\u001b[0;34m.\u001b[0m\u001b[0mapply\u001b[0m\u001b[0;34m(\u001b[0m\u001b[0;32mlambda\u001b[0m \u001b[0mx\u001b[0m\u001b[0;34m:\u001b[0m \u001b[0mliteral_eval\u001b[0m\u001b[0;34m(\u001b[0m\u001b[0mx\u001b[0m\u001b[0;34m)\u001b[0m\u001b[0;34m)\u001b[0m\u001b[0;34m\u001b[0m\u001b[0m\n\u001b[0m\u001b[1;32m      2\u001b[0m \u001b[0;31m# csv file will convert list into string. Do this to convert back\u001b[0m\u001b[0;34m\u001b[0m\u001b[0;34m\u001b[0m\u001b[0m\n",
      "\u001b[0;32m~/.pyenv/versions/anaconda3-5.2.0/envs/davinci/lib/python3.6/site-packages/pandas/core/frame.py\u001b[0m in \u001b[0;36m__getitem__\u001b[0;34m(self, key)\u001b[0m\n\u001b[1;32m   2686\u001b[0m             \u001b[0;32mreturn\u001b[0m \u001b[0mself\u001b[0m\u001b[0;34m.\u001b[0m\u001b[0m_getitem_multilevel\u001b[0m\u001b[0;34m(\u001b[0m\u001b[0mkey\u001b[0m\u001b[0;34m)\u001b[0m\u001b[0;34m\u001b[0m\u001b[0m\n\u001b[1;32m   2687\u001b[0m         \u001b[0;32melse\u001b[0m\u001b[0;34m:\u001b[0m\u001b[0;34m\u001b[0m\u001b[0m\n\u001b[0;32m-> 2688\u001b[0;31m             \u001b[0;32mreturn\u001b[0m \u001b[0mself\u001b[0m\u001b[0;34m.\u001b[0m\u001b[0m_getitem_column\u001b[0m\u001b[0;34m(\u001b[0m\u001b[0mkey\u001b[0m\u001b[0;34m)\u001b[0m\u001b[0;34m\u001b[0m\u001b[0m\n\u001b[0m\u001b[1;32m   2689\u001b[0m \u001b[0;34m\u001b[0m\u001b[0m\n\u001b[1;32m   2690\u001b[0m     \u001b[0;32mdef\u001b[0m \u001b[0m_getitem_column\u001b[0m\u001b[0;34m(\u001b[0m\u001b[0mself\u001b[0m\u001b[0;34m,\u001b[0m \u001b[0mkey\u001b[0m\u001b[0;34m)\u001b[0m\u001b[0;34m:\u001b[0m\u001b[0;34m\u001b[0m\u001b[0m\n",
      "\u001b[0;32m~/.pyenv/versions/anaconda3-5.2.0/envs/davinci/lib/python3.6/site-packages/pandas/core/frame.py\u001b[0m in \u001b[0;36m_getitem_column\u001b[0;34m(self, key)\u001b[0m\n\u001b[1;32m   2693\u001b[0m         \u001b[0;31m# get column\u001b[0m\u001b[0;34m\u001b[0m\u001b[0;34m\u001b[0m\u001b[0m\n\u001b[1;32m   2694\u001b[0m         \u001b[0;32mif\u001b[0m \u001b[0mself\u001b[0m\u001b[0;34m.\u001b[0m\u001b[0mcolumns\u001b[0m\u001b[0;34m.\u001b[0m\u001b[0mis_unique\u001b[0m\u001b[0;34m:\u001b[0m\u001b[0;34m\u001b[0m\u001b[0m\n\u001b[0;32m-> 2695\u001b[0;31m             \u001b[0;32mreturn\u001b[0m \u001b[0mself\u001b[0m\u001b[0;34m.\u001b[0m\u001b[0m_get_item_cache\u001b[0m\u001b[0;34m(\u001b[0m\u001b[0mkey\u001b[0m\u001b[0;34m)\u001b[0m\u001b[0;34m\u001b[0m\u001b[0m\n\u001b[0m\u001b[1;32m   2696\u001b[0m \u001b[0;34m\u001b[0m\u001b[0m\n\u001b[1;32m   2697\u001b[0m         \u001b[0;31m# duplicate columns & possible reduce dimensionality\u001b[0m\u001b[0;34m\u001b[0m\u001b[0;34m\u001b[0m\u001b[0m\n",
      "\u001b[0;32m~/.pyenv/versions/anaconda3-5.2.0/envs/davinci/lib/python3.6/site-packages/pandas/core/generic.py\u001b[0m in \u001b[0;36m_get_item_cache\u001b[0;34m(self, item)\u001b[0m\n\u001b[1;32m   2487\u001b[0m         \u001b[0mres\u001b[0m \u001b[0;34m=\u001b[0m \u001b[0mcache\u001b[0m\u001b[0;34m.\u001b[0m\u001b[0mget\u001b[0m\u001b[0;34m(\u001b[0m\u001b[0mitem\u001b[0m\u001b[0;34m)\u001b[0m\u001b[0;34m\u001b[0m\u001b[0m\n\u001b[1;32m   2488\u001b[0m         \u001b[0;32mif\u001b[0m \u001b[0mres\u001b[0m \u001b[0;32mis\u001b[0m \u001b[0;32mNone\u001b[0m\u001b[0;34m:\u001b[0m\u001b[0;34m\u001b[0m\u001b[0m\n\u001b[0;32m-> 2489\u001b[0;31m             \u001b[0mvalues\u001b[0m \u001b[0;34m=\u001b[0m \u001b[0mself\u001b[0m\u001b[0;34m.\u001b[0m\u001b[0m_data\u001b[0m\u001b[0;34m.\u001b[0m\u001b[0mget\u001b[0m\u001b[0;34m(\u001b[0m\u001b[0mitem\u001b[0m\u001b[0;34m)\u001b[0m\u001b[0;34m\u001b[0m\u001b[0m\n\u001b[0m\u001b[1;32m   2490\u001b[0m             \u001b[0mres\u001b[0m \u001b[0;34m=\u001b[0m \u001b[0mself\u001b[0m\u001b[0;34m.\u001b[0m\u001b[0m_box_item_values\u001b[0m\u001b[0;34m(\u001b[0m\u001b[0mitem\u001b[0m\u001b[0;34m,\u001b[0m \u001b[0mvalues\u001b[0m\u001b[0;34m)\u001b[0m\u001b[0;34m\u001b[0m\u001b[0m\n\u001b[1;32m   2491\u001b[0m             \u001b[0mcache\u001b[0m\u001b[0;34m[\u001b[0m\u001b[0mitem\u001b[0m\u001b[0;34m]\u001b[0m \u001b[0;34m=\u001b[0m \u001b[0mres\u001b[0m\u001b[0;34m\u001b[0m\u001b[0m\n",
      "\u001b[0;32m~/.pyenv/versions/anaconda3-5.2.0/envs/davinci/lib/python3.6/site-packages/pandas/core/internals.py\u001b[0m in \u001b[0;36mget\u001b[0;34m(self, item, fastpath)\u001b[0m\n\u001b[1;32m   4113\u001b[0m \u001b[0;34m\u001b[0m\u001b[0m\n\u001b[1;32m   4114\u001b[0m             \u001b[0;32mif\u001b[0m \u001b[0;32mnot\u001b[0m \u001b[0misna\u001b[0m\u001b[0;34m(\u001b[0m\u001b[0mitem\u001b[0m\u001b[0;34m)\u001b[0m\u001b[0;34m:\u001b[0m\u001b[0;34m\u001b[0m\u001b[0m\n\u001b[0;32m-> 4115\u001b[0;31m                 \u001b[0mloc\u001b[0m \u001b[0;34m=\u001b[0m \u001b[0mself\u001b[0m\u001b[0;34m.\u001b[0m\u001b[0mitems\u001b[0m\u001b[0;34m.\u001b[0m\u001b[0mget_loc\u001b[0m\u001b[0;34m(\u001b[0m\u001b[0mitem\u001b[0m\u001b[0;34m)\u001b[0m\u001b[0;34m\u001b[0m\u001b[0m\n\u001b[0m\u001b[1;32m   4116\u001b[0m             \u001b[0;32melse\u001b[0m\u001b[0;34m:\u001b[0m\u001b[0;34m\u001b[0m\u001b[0m\n\u001b[1;32m   4117\u001b[0m                 \u001b[0mindexer\u001b[0m \u001b[0;34m=\u001b[0m \u001b[0mnp\u001b[0m\u001b[0;34m.\u001b[0m\u001b[0marange\u001b[0m\u001b[0;34m(\u001b[0m\u001b[0mlen\u001b[0m\u001b[0;34m(\u001b[0m\u001b[0mself\u001b[0m\u001b[0;34m.\u001b[0m\u001b[0mitems\u001b[0m\u001b[0;34m)\u001b[0m\u001b[0;34m)\u001b[0m\u001b[0;34m[\u001b[0m\u001b[0misna\u001b[0m\u001b[0;34m(\u001b[0m\u001b[0mself\u001b[0m\u001b[0;34m.\u001b[0m\u001b[0mitems\u001b[0m\u001b[0;34m)\u001b[0m\u001b[0;34m]\u001b[0m\u001b[0;34m\u001b[0m\u001b[0m\n",
      "\u001b[0;32m~/.pyenv/versions/anaconda3-5.2.0/envs/davinci/lib/python3.6/site-packages/pandas/core/indexes/base.py\u001b[0m in \u001b[0;36mget_loc\u001b[0;34m(self, key, method, tolerance)\u001b[0m\n\u001b[1;32m   3078\u001b[0m                 \u001b[0;32mreturn\u001b[0m \u001b[0mself\u001b[0m\u001b[0;34m.\u001b[0m\u001b[0m_engine\u001b[0m\u001b[0;34m.\u001b[0m\u001b[0mget_loc\u001b[0m\u001b[0;34m(\u001b[0m\u001b[0mkey\u001b[0m\u001b[0;34m)\u001b[0m\u001b[0;34m\u001b[0m\u001b[0m\n\u001b[1;32m   3079\u001b[0m             \u001b[0;32mexcept\u001b[0m \u001b[0mKeyError\u001b[0m\u001b[0;34m:\u001b[0m\u001b[0;34m\u001b[0m\u001b[0m\n\u001b[0;32m-> 3080\u001b[0;31m                 \u001b[0;32mreturn\u001b[0m \u001b[0mself\u001b[0m\u001b[0;34m.\u001b[0m\u001b[0m_engine\u001b[0m\u001b[0;34m.\u001b[0m\u001b[0mget_loc\u001b[0m\u001b[0;34m(\u001b[0m\u001b[0mself\u001b[0m\u001b[0;34m.\u001b[0m\u001b[0m_maybe_cast_indexer\u001b[0m\u001b[0;34m(\u001b[0m\u001b[0mkey\u001b[0m\u001b[0;34m)\u001b[0m\u001b[0;34m)\u001b[0m\u001b[0;34m\u001b[0m\u001b[0m\n\u001b[0m\u001b[1;32m   3081\u001b[0m \u001b[0;34m\u001b[0m\u001b[0m\n\u001b[1;32m   3082\u001b[0m         \u001b[0mindexer\u001b[0m \u001b[0;34m=\u001b[0m \u001b[0mself\u001b[0m\u001b[0;34m.\u001b[0m\u001b[0mget_indexer\u001b[0m\u001b[0;34m(\u001b[0m\u001b[0;34m[\u001b[0m\u001b[0mkey\u001b[0m\u001b[0;34m]\u001b[0m\u001b[0;34m,\u001b[0m \u001b[0mmethod\u001b[0m\u001b[0;34m=\u001b[0m\u001b[0mmethod\u001b[0m\u001b[0;34m,\u001b[0m \u001b[0mtolerance\u001b[0m\u001b[0;34m=\u001b[0m\u001b[0mtolerance\u001b[0m\u001b[0;34m)\u001b[0m\u001b[0;34m\u001b[0m\u001b[0m\n",
      "\u001b[0;32mpandas/_libs/index.pyx\u001b[0m in \u001b[0;36mpandas._libs.index.IndexEngine.get_loc\u001b[0;34m()\u001b[0m\n",
      "\u001b[0;32mpandas/_libs/index.pyx\u001b[0m in \u001b[0;36mpandas._libs.index.IndexEngine.get_loc\u001b[0;34m()\u001b[0m\n",
      "\u001b[0;32mpandas/_libs/hashtable_class_helper.pxi\u001b[0m in \u001b[0;36mpandas._libs.hashtable.PyObjectHashTable.get_item\u001b[0;34m()\u001b[0m\n",
      "\u001b[0;32mpandas/_libs/hashtable_class_helper.pxi\u001b[0m in \u001b[0;36mpandas._libs.hashtable.PyObjectHashTable.get_item\u001b[0;34m()\u001b[0m\n",
      "\u001b[0;31mKeyError\u001b[0m: 'tokenized_desc'"
     ]
    }
   ],
   "source": [
    "df['tokenized_desc']=df['tokenized_desc'].apply(lambda x: literal_eval(x))\n",
    "# csv file will convert list into string. Do this to convert back"
   ]
  }
 ],
 "metadata": {
  "kernelspec": {
   "display_name": "davinci",
   "language": "python",
   "name": "davinci"
  },
  "language_info": {
   "codemirror_mode": {
    "name": "ipython",
    "version": 3
   },
   "file_extension": ".py",
   "mimetype": "text/x-python",
   "name": "python",
   "nbconvert_exporter": "python",
   "pygments_lexer": "ipython3",
   "version": "3.6.6"
  }
 },
 "nbformat": 4,
 "nbformat_minor": 2
}
