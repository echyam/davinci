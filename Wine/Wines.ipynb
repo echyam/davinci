{
 "cells": [
  {
   "cell_type": "code",
   "execution_count": 52,
   "metadata": {},
   "outputs": [],
   "source": [
    "import nltk\n",
    "import pandas as pd\n",
    "import seaborn as sns\n",
    "from sklearn.feature_extraction.text import TfidfVectorizer\n",
    "import numpy as np\n",
    "import bokeh\n",
    "import matplotlib.pyplot as plt\n",
    "import pylab as pl\n",
    "from ast import literal_eval"
   ]
  },
  {
   "cell_type": "code",
   "execution_count": 2,
   "metadata": {},
   "outputs": [],
   "source": [
    "import os"
   ]
  },
  {
   "cell_type": "code",
   "execution_count": 3,
   "metadata": {},
   "outputs": [],
   "source": [
    "DATA_MAG = \"/Users/pnguyen/Documents/DaVinci/Data/wine-reviews/winemag-data-130k-v2.csv\""
   ]
  },
  {
   "cell_type": "code",
   "execution_count": 4,
   "metadata": {},
   "outputs": [],
   "source": [
    "TOKENIZED_DATA_MAG = \"/Users/pnguyen/Documents/DaVinci/Data/wine-reviews/winemag-data-130k-v2-tokenized.csv\""
   ]
  },
  {
   "cell_type": "code",
   "execution_count": 5,
   "metadata": {},
   "outputs": [],
   "source": [
    "df = pd.read_csv(TOKENIZED_DATA_MAG, index_col=0)"
   ]
  },
  {
   "cell_type": "code",
   "execution_count": 6,
   "metadata": {
    "scrolled": true
   },
   "outputs": [
    {
     "data": {
      "text/html": [
       "<div>\n",
       "<style scoped>\n",
       "    .dataframe tbody tr th:only-of-type {\n",
       "        vertical-align: middle;\n",
       "    }\n",
       "\n",
       "    .dataframe tbody tr th {\n",
       "        vertical-align: top;\n",
       "    }\n",
       "\n",
       "    .dataframe thead th {\n",
       "        text-align: right;\n",
       "    }\n",
       "</style>\n",
       "<table border=\"1\" class=\"dataframe\">\n",
       "  <thead>\n",
       "    <tr style=\"text-align: right;\">\n",
       "      <th></th>\n",
       "      <th>country</th>\n",
       "      <th>description</th>\n",
       "      <th>designation</th>\n",
       "      <th>points</th>\n",
       "      <th>price</th>\n",
       "      <th>province</th>\n",
       "      <th>region_1</th>\n",
       "      <th>region_2</th>\n",
       "      <th>taster_name</th>\n",
       "      <th>taster_twitter_handle</th>\n",
       "      <th>title</th>\n",
       "      <th>variety</th>\n",
       "      <th>winery</th>\n",
       "      <th>tokenized_desc</th>\n",
       "    </tr>\n",
       "  </thead>\n",
       "  <tbody>\n",
       "    <tr>\n",
       "      <th>0</th>\n",
       "      <td>Italy</td>\n",
       "      <td>Aromas include tropical fruit, broom, brimston...</td>\n",
       "      <td>Vulkà Bianco</td>\n",
       "      <td>87</td>\n",
       "      <td>NaN</td>\n",
       "      <td>Sicily &amp; Sardinia</td>\n",
       "      <td>Etna</td>\n",
       "      <td>NaN</td>\n",
       "      <td>Kerin O’Keefe</td>\n",
       "      <td>@kerinokeefe</td>\n",
       "      <td>Nicosia 2013 Vulkà Bianco  (Etna)</td>\n",
       "      <td>White Blend</td>\n",
       "      <td>Nicosia</td>\n",
       "      <td>['aromas', 'include', 'tropical', 'fruit', 'br...</td>\n",
       "    </tr>\n",
       "    <tr>\n",
       "      <th>1</th>\n",
       "      <td>Portugal</td>\n",
       "      <td>This is ripe and fruity, a wine that is smooth...</td>\n",
       "      <td>Avidagos</td>\n",
       "      <td>87</td>\n",
       "      <td>15.0</td>\n",
       "      <td>Douro</td>\n",
       "      <td>NaN</td>\n",
       "      <td>NaN</td>\n",
       "      <td>Roger Voss</td>\n",
       "      <td>@vossroger</td>\n",
       "      <td>Quinta dos Avidagos 2011 Avidagos Red (Douro)</td>\n",
       "      <td>Portuguese Red</td>\n",
       "      <td>Quinta dos Avidagos</td>\n",
       "      <td>['ripe', 'fruity', 'wine', 'smooth', 'still', ...</td>\n",
       "    </tr>\n",
       "    <tr>\n",
       "      <th>2</th>\n",
       "      <td>US</td>\n",
       "      <td>Tart and snappy, the flavors of lime flesh and...</td>\n",
       "      <td>NaN</td>\n",
       "      <td>87</td>\n",
       "      <td>14.0</td>\n",
       "      <td>Oregon</td>\n",
       "      <td>Willamette Valley</td>\n",
       "      <td>Willamette Valley</td>\n",
       "      <td>Paul Gregutt</td>\n",
       "      <td>@paulgwine</td>\n",
       "      <td>Rainstorm 2013 Pinot Gris (Willamette Valley)</td>\n",
       "      <td>Pinot Gris</td>\n",
       "      <td>Rainstorm</td>\n",
       "      <td>['tart', 'snappy', 'flavors', 'lime', 'flesh',...</td>\n",
       "    </tr>\n",
       "    <tr>\n",
       "      <th>3</th>\n",
       "      <td>US</td>\n",
       "      <td>Pineapple rind, lemon pith and orange blossom ...</td>\n",
       "      <td>Reserve Late Harvest</td>\n",
       "      <td>87</td>\n",
       "      <td>13.0</td>\n",
       "      <td>Michigan</td>\n",
       "      <td>Lake Michigan Shore</td>\n",
       "      <td>NaN</td>\n",
       "      <td>Alexander Peartree</td>\n",
       "      <td>NaN</td>\n",
       "      <td>St. Julian 2013 Reserve Late Harvest Riesling ...</td>\n",
       "      <td>Riesling</td>\n",
       "      <td>St. Julian</td>\n",
       "      <td>['pineapple', 'rind', 'lemon', 'pith', 'orange...</td>\n",
       "    </tr>\n",
       "    <tr>\n",
       "      <th>4</th>\n",
       "      <td>US</td>\n",
       "      <td>Much like the regular bottling from 2012, this...</td>\n",
       "      <td>Vintner's Reserve Wild Child Block</td>\n",
       "      <td>87</td>\n",
       "      <td>65.0</td>\n",
       "      <td>Oregon</td>\n",
       "      <td>Willamette Valley</td>\n",
       "      <td>Willamette Valley</td>\n",
       "      <td>Paul Gregutt</td>\n",
       "      <td>@paulgwine</td>\n",
       "      <td>Sweet Cheeks 2012 Vintner's Reserve Wild Child...</td>\n",
       "      <td>Pinot Noir</td>\n",
       "      <td>Sweet Cheeks</td>\n",
       "      <td>['much', 'like', 'regular', 'bottling', '2012'...</td>\n",
       "    </tr>\n",
       "  </tbody>\n",
       "</table>\n",
       "</div>"
      ],
      "text/plain": [
       "    country                                        description  \\\n",
       "0     Italy  Aromas include tropical fruit, broom, brimston...   \n",
       "1  Portugal  This is ripe and fruity, a wine that is smooth...   \n",
       "2        US  Tart and snappy, the flavors of lime flesh and...   \n",
       "3        US  Pineapple rind, lemon pith and orange blossom ...   \n",
       "4        US  Much like the regular bottling from 2012, this...   \n",
       "\n",
       "                          designation  points  price           province  \\\n",
       "0                        Vulkà Bianco      87    NaN  Sicily & Sardinia   \n",
       "1                            Avidagos      87   15.0              Douro   \n",
       "2                                 NaN      87   14.0             Oregon   \n",
       "3                Reserve Late Harvest      87   13.0           Michigan   \n",
       "4  Vintner's Reserve Wild Child Block      87   65.0             Oregon   \n",
       "\n",
       "              region_1           region_2         taster_name  \\\n",
       "0                 Etna                NaN       Kerin O’Keefe   \n",
       "1                  NaN                NaN          Roger Voss   \n",
       "2    Willamette Valley  Willamette Valley        Paul Gregutt   \n",
       "3  Lake Michigan Shore                NaN  Alexander Peartree   \n",
       "4    Willamette Valley  Willamette Valley        Paul Gregutt   \n",
       "\n",
       "  taster_twitter_handle                                              title  \\\n",
       "0          @kerinokeefe                  Nicosia 2013 Vulkà Bianco  (Etna)   \n",
       "1            @vossroger      Quinta dos Avidagos 2011 Avidagos Red (Douro)   \n",
       "2           @paulgwine       Rainstorm 2013 Pinot Gris (Willamette Valley)   \n",
       "3                   NaN  St. Julian 2013 Reserve Late Harvest Riesling ...   \n",
       "4           @paulgwine   Sweet Cheeks 2012 Vintner's Reserve Wild Child...   \n",
       "\n",
       "          variety               winery  \\\n",
       "0     White Blend              Nicosia   \n",
       "1  Portuguese Red  Quinta dos Avidagos   \n",
       "2      Pinot Gris            Rainstorm   \n",
       "3        Riesling           St. Julian   \n",
       "4      Pinot Noir         Sweet Cheeks   \n",
       "\n",
       "                                      tokenized_desc  \n",
       "0  ['aromas', 'include', 'tropical', 'fruit', 'br...  \n",
       "1  ['ripe', 'fruity', 'wine', 'smooth', 'still', ...  \n",
       "2  ['tart', 'snappy', 'flavors', 'lime', 'flesh',...  \n",
       "3  ['pineapple', 'rind', 'lemon', 'pith', 'orange...  \n",
       "4  ['much', 'like', 'regular', 'bottling', '2012'...  "
      ]
     },
     "execution_count": 6,
     "metadata": {},
     "output_type": "execute_result"
    }
   ],
   "source": [
    "df.head()"
   ]
  },
  {
   "cell_type": "code",
   "execution_count": 7,
   "metadata": {},
   "outputs": [],
   "source": [
    "df.rename(columns={'variety': 'varietal'}, inplace=True)\n",
    "# gotta use the correct terminology\n",
    "# yes I'm a bit snobbish why'd you ask?\n",
    "# sorry not sorry"
   ]
  },
  {
   "cell_type": "code",
   "execution_count": 54,
   "metadata": {},
   "outputs": [],
   "source": [
    "df['tokenized_desc']=df['tokenized_desc'].apply(lambda x: literal_eval(x))\n",
    "# csv file will convert list into string. Do this to convert back"
   ]
  },
  {
   "cell_type": "code",
   "execution_count": 8,
   "metadata": {},
   "outputs": [
    {
     "data": {
      "text/plain": [
       "array([[<matplotlib.axes._subplots.AxesSubplot object at 0x1a26b38a58>]],\n",
       "      dtype=object)"
      ]
     },
     "execution_count": 8,
     "metadata": {},
     "output_type": "execute_result"
    },
    {
     "data": {
      "image/png": "[encoded data removed]",
      "text/plain": [
       "<Figure size 432x288 with 1 Axes>"
      ]
     },
     "metadata": {},
     "output_type": "display_data"
    }
   ],
   "source": [
    "df.hist(column = 'price', bins=100, log=True)"
   ]
  },
  {
   "cell_type": "code",
   "execution_count": 9,
   "metadata": {},
   "outputs": [
    {
     "data": {
      "text/plain": [
       "array([[<matplotlib.axes._subplots.AxesSubplot object at 0x1a26ff70b8>]],\n",
       "      dtype=object)"
      ]
     },
     "execution_count": 9,
     "metadata": {},
     "output_type": "execute_result"
    },
    {
     "data": {
      "image/png": "[encoded data removed]",
      "text/plain": [
       "<Figure size 432x288 with 1 Axes>"
      ]
     },
     "metadata": {},
     "output_type": "display_data"
    }
   ],
   "source": [
    "df.hist(column = 'points', bins=100)"
   ]
  },
  {
   "cell_type": "code",
   "execution_count": 10,
   "metadata": {},
   "outputs": [],
   "source": [
    "df['unique_taster'] = df['taster_name'] + df['taster_twitter_handle'].fillna('__notwitter')"
   ]
  },
  {
   "cell_type": "code",
   "execution_count": 11,
   "metadata": {},
   "outputs": [
    {
     "data": {
      "text/plain": [
       "Roger Voss@vossroger                25514\n",
       "Michael Schachner@wineschach        15134\n",
       "Kerin O’Keefe@kerinokeefe           10776\n",
       "Virginie Boone@vboone                9537\n",
       "Paul Gregutt@paulgwine               9532\n",
       "Matt Kettmann@mattkettmann           6332\n",
       "Joe Czerwinski@JoeCz                 5147\n",
       "Sean P. Sullivan@wawinereport        4966\n",
       "Anna Lee C. Iijima__notwitter        4415\n",
       "Jim Gordon@gordone_cellars           4177\n",
       "Anne Krebiehl MW@AnneInVino          3685\n",
       "Lauren Buzzeo@laurbuzz               1835\n",
       "Susan Kostrzewa@suskostrzewa         1085\n",
       "Mike DeSimone@worldwineguys           514\n",
       "Jeff Jenssen@worldwineguys            491\n",
       "Alexander Peartree__notwitter         415\n",
       "Carrie Dykes__notwitter               139\n",
       "Fiona Adams@bkfiona                    27\n",
       "Christina Pickard@winewchristina        6\n",
       "Name: unique_taster, dtype: int64"
      ]
     },
     "execution_count": 11,
     "metadata": {},
     "output_type": "execute_result"
    }
   ],
   "source": [
    "df['unique_taster'].value_counts()"
   ]
  },
  {
   "cell_type": "code",
   "execution_count": 12,
   "metadata": {},
   "outputs": [
    {
     "data": {
      "text/plain": [
       "<matplotlib.axes._subplots.AxesSubplot at 0x1a26ff7160>"
      ]
     },
     "execution_count": 12,
     "metadata": {},
     "output_type": "execute_result"
    },
    {
     "data": {
      "image/png": "[encoded data removed]",
      "text/plain": [
       "<Figure size 432x288 with 1 Axes>"
      ]
     },
     "metadata": {},
     "output_type": "display_data"
    }
   ],
   "source": [
    "fig, ax = plt.subplots()\n",
    "df['country'].value_counts().plot(ax=ax, kind='bar')"
   ]
  },
  {
   "cell_type": "markdown",
   "metadata": {},
   "source": [
    "A few countries makes up for most of the wines"
   ]
  },
  {
   "cell_type": "code",
   "execution_count": 13,
   "metadata": {},
   "outputs": [
    {
     "data": {
      "text/plain": [
       "279.48470588235296"
      ]
     },
     "execution_count": 13,
     "metadata": {},
     "output_type": "execute_result"
    },
    {
     "data": {
      "image/png": "[encoded data removed]",
      "text/plain": [
       "<Figure size 432x288 with 1 Axes>"
      ]
     },
     "metadata": {},
     "output_type": "display_data"
    }
   ],
   "source": [
    "df.groupby(by='province')['title'].nunique().hist(bins=100)\n",
    "df.groupby(by='province')['title'].nunique().mean() #number of wines per province on average"
   ]
  },
  {
   "cell_type": "code",
   "execution_count": 14,
   "metadata": {},
   "outputs": [
    {
     "data": {
      "text/plain": [
       "California          36247\n",
       "Washington           8639\n",
       "Bordeaux             5941\n",
       "Tuscany              5897\n",
       "Oregon               5373\n",
       "Burgundy             3980\n",
       "Northern Spain       3851\n",
       "Piedmont             3729\n",
       "Mendoza Province     3264\n",
       "Veneto               2716\n",
       "Name: province, dtype: int64"
      ]
     },
     "execution_count": 14,
     "metadata": {},
     "output_type": "execute_result"
    }
   ],
   "source": [
    "df['province'].value_counts()[:10]"
   ]
  },
  {
   "cell_type": "code",
   "execution_count": 15,
   "metadata": {},
   "outputs": [
    {
     "data": {
      "text/plain": [
       "Pinot Noir                  13272\n",
       "Chardonnay                  11753\n",
       "Cabernet Sauvignon           9472\n",
       "Red Blend                    8946\n",
       "Bordeaux-style Red Blend     6915\n",
       "Riesling                     5189\n",
       "Sauvignon Blanc              4967\n",
       "Syrah                        4142\n",
       "Rosé                         3564\n",
       "Merlot                       3102\n",
       "Nebbiolo                     2804\n",
       "Zinfandel                    2714\n",
       "Sangiovese                   2707\n",
       "Malbec                       2652\n",
       "Portuguese Red               2466\n",
       "White Blend                  2360\n",
       "Sparkling Blend              2153\n",
       "Tempranillo                  1810\n",
       "Rhône-style Red Blend        1471\n",
       "Pinot Gris                   1455\n",
       "Name: varietal, dtype: int64"
      ]
     },
     "execution_count": 15,
     "metadata": {},
     "output_type": "execute_result"
    }
   ],
   "source": [
    "df['varietal'].value_counts()[:20]"
   ]
  },
  {
   "cell_type": "markdown",
   "metadata": {},
   "source": [
    "The average (mean) province contributes about 300 wines to the list. But obviously some provinces dominate."
   ]
  },
  {
   "cell_type": "code",
   "execution_count": 16,
   "metadata": {},
   "outputs": [
    {
     "data": {
      "text/plain": [
       "<matplotlib.axes._subplots.AxesSubplot at 0x1a240f4278>"
      ]
     },
     "execution_count": 16,
     "metadata": {},
     "output_type": "execute_result"
    },
    {
     "data": {
      "image/png": "[encoded data removed]",
      "text/plain": [
       "<Figure size 432x288 with 1 Axes>"
      ]
     },
     "metadata": {},
     "output_type": "display_data"
    }
   ],
   "source": [
    "df['title'].value_counts().hist(bins=20, log=True)"
   ]
  },
  {
   "cell_type": "markdown",
   "metadata": {},
   "source": [
    "Most wines appear only once, but seems like a few appears multiple times"
   ]
  },
  {
   "cell_type": "code",
   "execution_count": 17,
   "metadata": {},
   "outputs": [
    {
     "data": {
      "text/plain": [
       "country    designation    \n",
       "US         Reserve            1485\n",
       "           Estate             1210\n",
       "Italy      Riserva             690\n",
       "US         Estate Grown        600\n",
       "Chile      Reserva             520\n",
       "France     Barrel sample       375\n",
       "Spain      Crianza             343\n",
       "US         Dry                 326\n",
       "France     Vieilles Vignes     301\n",
       "Spain      Reserva             270\n",
       "France     Barrel Sample       252\n",
       "US         Estate Bottled      252\n",
       "Portugal   Reserva             226\n",
       "Argentina  Reserva             224\n",
       "France     Tradition           221\n",
       "Italy      Brut                186\n",
       "US         Old Vine            185\n",
       "Italy      Extra Dry           180\n",
       "US         Rosé of             169\n",
       "France     Brut Rosé           165\n",
       "Name: designation, dtype: int64"
      ]
     },
     "execution_count": 17,
     "metadata": {},
     "output_type": "execute_result"
    }
   ],
   "source": [
    "df.groupby(by='country')['designation'].value_counts().nlargest(20)"
   ]
  },
  {
   "cell_type": "code",
   "execution_count": 18,
   "metadata": {},
   "outputs": [
    {
     "data": {
      "text/html": [
       "<div>\n",
       "<style scoped>\n",
       "    .dataframe tbody tr th:only-of-type {\n",
       "        vertical-align: middle;\n",
       "    }\n",
       "\n",
       "    .dataframe tbody tr th {\n",
       "        vertical-align: top;\n",
       "    }\n",
       "\n",
       "    .dataframe thead th {\n",
       "        text-align: right;\n",
       "    }\n",
       "</style>\n",
       "<table border=\"1\" class=\"dataframe\">\n",
       "  <thead>\n",
       "    <tr style=\"text-align: right;\">\n",
       "      <th></th>\n",
       "      <th>country</th>\n",
       "      <th>varietal</th>\n",
       "      <th>count</th>\n",
       "    </tr>\n",
       "  </thead>\n",
       "  <tbody>\n",
       "    <tr>\n",
       "      <th>0</th>\n",
       "      <td>US</td>\n",
       "      <td>Pinot Noir</td>\n",
       "      <td>9885</td>\n",
       "    </tr>\n",
       "    <tr>\n",
       "      <th>1</th>\n",
       "      <td>US</td>\n",
       "      <td>Cabernet Sauvignon</td>\n",
       "      <td>7315</td>\n",
       "    </tr>\n",
       "    <tr>\n",
       "      <th>2</th>\n",
       "      <td>US</td>\n",
       "      <td>Chardonnay</td>\n",
       "      <td>6801</td>\n",
       "    </tr>\n",
       "    <tr>\n",
       "      <th>3</th>\n",
       "      <td>France</td>\n",
       "      <td>Bordeaux-style Red Blend</td>\n",
       "      <td>4725</td>\n",
       "    </tr>\n",
       "    <tr>\n",
       "      <th>4</th>\n",
       "      <td>Italy</td>\n",
       "      <td>Red Blend</td>\n",
       "      <td>3624</td>\n",
       "    </tr>\n",
       "    <tr>\n",
       "      <th>5</th>\n",
       "      <td>US</td>\n",
       "      <td>Syrah</td>\n",
       "      <td>3244</td>\n",
       "    </tr>\n",
       "    <tr>\n",
       "      <th>6</th>\n",
       "      <td>US</td>\n",
       "      <td>Red Blend</td>\n",
       "      <td>2972</td>\n",
       "    </tr>\n",
       "    <tr>\n",
       "      <th>7</th>\n",
       "      <td>France</td>\n",
       "      <td>Chardonnay</td>\n",
       "      <td>2808</td>\n",
       "    </tr>\n",
       "    <tr>\n",
       "      <th>8</th>\n",
       "      <td>Italy</td>\n",
       "      <td>Nebbiolo</td>\n",
       "      <td>2736</td>\n",
       "    </tr>\n",
       "    <tr>\n",
       "      <th>9</th>\n",
       "      <td>US</td>\n",
       "      <td>Zinfandel</td>\n",
       "      <td>2711</td>\n",
       "    </tr>\n",
       "    <tr>\n",
       "      <th>10</th>\n",
       "      <td>Portugal</td>\n",
       "      <td>Portuguese Red</td>\n",
       "      <td>2466</td>\n",
       "    </tr>\n",
       "    <tr>\n",
       "      <th>11</th>\n",
       "      <td>US</td>\n",
       "      <td>Merlot</td>\n",
       "      <td>2311</td>\n",
       "    </tr>\n",
       "    <tr>\n",
       "      <th>12</th>\n",
       "      <td>Italy</td>\n",
       "      <td>Sangiovese</td>\n",
       "      <td>2265</td>\n",
       "    </tr>\n",
       "    <tr>\n",
       "      <th>13</th>\n",
       "      <td>US</td>\n",
       "      <td>Sauvignon Blanc</td>\n",
       "      <td>2163</td>\n",
       "    </tr>\n",
       "    <tr>\n",
       "      <th>14</th>\n",
       "      <td>France</td>\n",
       "      <td>Pinot Noir</td>\n",
       "      <td>1966</td>\n",
       "    </tr>\n",
       "    <tr>\n",
       "      <th>15</th>\n",
       "      <td>France</td>\n",
       "      <td>Rosé</td>\n",
       "      <td>1923</td>\n",
       "    </tr>\n",
       "    <tr>\n",
       "      <th>16</th>\n",
       "      <td>US</td>\n",
       "      <td>Bordeaux-style Red Blend</td>\n",
       "      <td>1824</td>\n",
       "    </tr>\n",
       "    <tr>\n",
       "      <th>17</th>\n",
       "      <td>Germany</td>\n",
       "      <td>Riesling</td>\n",
       "      <td>1790</td>\n",
       "    </tr>\n",
       "    <tr>\n",
       "      <th>18</th>\n",
       "      <td>US</td>\n",
       "      <td>Riesling</td>\n",
       "      <td>1753</td>\n",
       "    </tr>\n",
       "    <tr>\n",
       "      <th>19</th>\n",
       "      <td>Argentina</td>\n",
       "      <td>Malbec</td>\n",
       "      <td>1510</td>\n",
       "    </tr>\n",
       "    <tr>\n",
       "      <th>20</th>\n",
       "      <td>Spain</td>\n",
       "      <td>Tempranillo</td>\n",
       "      <td>1429</td>\n",
       "    </tr>\n",
       "    <tr>\n",
       "      <th>21</th>\n",
       "      <td>France</td>\n",
       "      <td>Champagne Blend</td>\n",
       "      <td>1243</td>\n",
       "    </tr>\n",
       "    <tr>\n",
       "      <th>22</th>\n",
       "      <td>Austria</td>\n",
       "      <td>Grüner Veltliner</td>\n",
       "      <td>1234</td>\n",
       "    </tr>\n",
       "    <tr>\n",
       "      <th>23</th>\n",
       "      <td>Portugal</td>\n",
       "      <td>Portuguese White</td>\n",
       "      <td>1159</td>\n",
       "    </tr>\n",
       "    <tr>\n",
       "      <th>24</th>\n",
       "      <td>France</td>\n",
       "      <td>Bordeaux-style White Blend</td>\n",
       "      <td>1021</td>\n",
       "    </tr>\n",
       "    <tr>\n",
       "      <th>25</th>\n",
       "      <td>France</td>\n",
       "      <td>Gamay</td>\n",
       "      <td>1020</td>\n",
       "    </tr>\n",
       "    <tr>\n",
       "      <th>26</th>\n",
       "      <td>US</td>\n",
       "      <td>Cabernet Franc</td>\n",
       "      <td>1003</td>\n",
       "    </tr>\n",
       "    <tr>\n",
       "      <th>27</th>\n",
       "      <td>France</td>\n",
       "      <td>Sauvignon Blanc</td>\n",
       "      <td>933</td>\n",
       "    </tr>\n",
       "    <tr>\n",
       "      <th>28</th>\n",
       "      <td>US</td>\n",
       "      <td>Rosé</td>\n",
       "      <td>907</td>\n",
       "    </tr>\n",
       "    <tr>\n",
       "      <th>29</th>\n",
       "      <td>US</td>\n",
       "      <td>Pinot Gris</td>\n",
       "      <td>868</td>\n",
       "    </tr>\n",
       "    <tr>\n",
       "      <th>...</th>\n",
       "      <td>...</td>\n",
       "      <td>...</td>\n",
       "      <td>...</td>\n",
       "    </tr>\n",
       "    <tr>\n",
       "      <th>270</th>\n",
       "      <td>Austria</td>\n",
       "      <td>Weissburgunder</td>\n",
       "      <td>33</td>\n",
       "    </tr>\n",
       "    <tr>\n",
       "      <th>271</th>\n",
       "      <td>Greece</td>\n",
       "      <td>Xinomavro</td>\n",
       "      <td>33</td>\n",
       "    </tr>\n",
       "    <tr>\n",
       "      <th>272</th>\n",
       "      <td>Italy</td>\n",
       "      <td>Insolia</td>\n",
       "      <td>33</td>\n",
       "    </tr>\n",
       "    <tr>\n",
       "      <th>273</th>\n",
       "      <td>Italy</td>\n",
       "      <td>Müller-Thurgau</td>\n",
       "      <td>33</td>\n",
       "    </tr>\n",
       "    <tr>\n",
       "      <th>274</th>\n",
       "      <td>Spain</td>\n",
       "      <td>Sauvignon Blanc</td>\n",
       "      <td>33</td>\n",
       "    </tr>\n",
       "    <tr>\n",
       "      <th>275</th>\n",
       "      <td>US</td>\n",
       "      <td>Claret</td>\n",
       "      <td>33</td>\n",
       "    </tr>\n",
       "    <tr>\n",
       "      <th>276</th>\n",
       "      <td>US</td>\n",
       "      <td>Muscat</td>\n",
       "      <td>33</td>\n",
       "    </tr>\n",
       "    <tr>\n",
       "      <th>277</th>\n",
       "      <td>Argentina</td>\n",
       "      <td>White Blend</td>\n",
       "      <td>32</td>\n",
       "    </tr>\n",
       "    <tr>\n",
       "      <th>278</th>\n",
       "      <td>Austria</td>\n",
       "      <td>Pinot Blanc</td>\n",
       "      <td>32</td>\n",
       "    </tr>\n",
       "    <tr>\n",
       "      <th>279</th>\n",
       "      <td>Georgia</td>\n",
       "      <td>Saperavi</td>\n",
       "      <td>32</td>\n",
       "    </tr>\n",
       "    <tr>\n",
       "      <th>280</th>\n",
       "      <td>Australia</td>\n",
       "      <td>Shiraz-Cabernet Sauvignon</td>\n",
       "      <td>31</td>\n",
       "    </tr>\n",
       "    <tr>\n",
       "      <th>281</th>\n",
       "      <td>France</td>\n",
       "      <td>Tannat-Cabernet</td>\n",
       "      <td>31</td>\n",
       "    </tr>\n",
       "    <tr>\n",
       "      <th>282</th>\n",
       "      <td>Italy</td>\n",
       "      <td>Cannonau</td>\n",
       "      <td>31</td>\n",
       "    </tr>\n",
       "    <tr>\n",
       "      <th>283</th>\n",
       "      <td>Italy</td>\n",
       "      <td>Zibibbo</td>\n",
       "      <td>31</td>\n",
       "    </tr>\n",
       "    <tr>\n",
       "      <th>284</th>\n",
       "      <td>US</td>\n",
       "      <td>Cinsault</td>\n",
       "      <td>31</td>\n",
       "    </tr>\n",
       "    <tr>\n",
       "      <th>285</th>\n",
       "      <td>US</td>\n",
       "      <td>Lemberger</td>\n",
       "      <td>31</td>\n",
       "    </tr>\n",
       "    <tr>\n",
       "      <th>286</th>\n",
       "      <td>Australia</td>\n",
       "      <td>Rosé</td>\n",
       "      <td>30</td>\n",
       "    </tr>\n",
       "    <tr>\n",
       "      <th>287</th>\n",
       "      <td>Italy</td>\n",
       "      <td>Inzolia</td>\n",
       "      <td>30</td>\n",
       "    </tr>\n",
       "    <tr>\n",
       "      <th>288</th>\n",
       "      <td>South Africa</td>\n",
       "      <td>Pinot Noir</td>\n",
       "      <td>30</td>\n",
       "    </tr>\n",
       "    <tr>\n",
       "      <th>289</th>\n",
       "      <td>Spain</td>\n",
       "      <td>Graciano</td>\n",
       "      <td>30</td>\n",
       "    </tr>\n",
       "    <tr>\n",
       "      <th>290</th>\n",
       "      <td>Spain</td>\n",
       "      <td>Tempranillo-Garnacha</td>\n",
       "      <td>30</td>\n",
       "    </tr>\n",
       "    <tr>\n",
       "      <th>291</th>\n",
       "      <td>US</td>\n",
       "      <td>Carignane</td>\n",
       "      <td>30</td>\n",
       "    </tr>\n",
       "    <tr>\n",
       "      <th>292</th>\n",
       "      <td>Argentina</td>\n",
       "      <td>Sparkling Blend</td>\n",
       "      <td>29</td>\n",
       "    </tr>\n",
       "    <tr>\n",
       "      <th>293</th>\n",
       "      <td>Australia</td>\n",
       "      <td>Bordeaux-style Red Blend</td>\n",
       "      <td>29</td>\n",
       "    </tr>\n",
       "    <tr>\n",
       "      <th>294</th>\n",
       "      <td>Italy</td>\n",
       "      <td>Catarratto</td>\n",
       "      <td>29</td>\n",
       "    </tr>\n",
       "    <tr>\n",
       "      <th>295</th>\n",
       "      <td>Portugal</td>\n",
       "      <td>Baga</td>\n",
       "      <td>29</td>\n",
       "    </tr>\n",
       "    <tr>\n",
       "      <th>296</th>\n",
       "      <td>Portugal</td>\n",
       "      <td>Loureiro</td>\n",
       "      <td>29</td>\n",
       "    </tr>\n",
       "    <tr>\n",
       "      <th>297</th>\n",
       "      <td>Australia</td>\n",
       "      <td>Pinot Grigio</td>\n",
       "      <td>28</td>\n",
       "    </tr>\n",
       "    <tr>\n",
       "      <th>298</th>\n",
       "      <td>Chile</td>\n",
       "      <td>Cabernet Blend</td>\n",
       "      <td>28</td>\n",
       "    </tr>\n",
       "    <tr>\n",
       "      <th>299</th>\n",
       "      <td>France</td>\n",
       "      <td>Chenin Blanc-Chardonnay</td>\n",
       "      <td>28</td>\n",
       "    </tr>\n",
       "  </tbody>\n",
       "</table>\n",
       "<p>300 rows × 3 columns</p>\n",
       "</div>"
      ],
      "text/plain": [
       "          country                    varietal  count\n",
       "0              US                  Pinot Noir   9885\n",
       "1              US          Cabernet Sauvignon   7315\n",
       "2              US                  Chardonnay   6801\n",
       "3          France    Bordeaux-style Red Blend   4725\n",
       "4           Italy                   Red Blend   3624\n",
       "5              US                       Syrah   3244\n",
       "6              US                   Red Blend   2972\n",
       "7          France                  Chardonnay   2808\n",
       "8           Italy                    Nebbiolo   2736\n",
       "9              US                   Zinfandel   2711\n",
       "10       Portugal              Portuguese Red   2466\n",
       "11             US                      Merlot   2311\n",
       "12          Italy                  Sangiovese   2265\n",
       "13             US             Sauvignon Blanc   2163\n",
       "14         France                  Pinot Noir   1966\n",
       "15         France                        Rosé   1923\n",
       "16             US    Bordeaux-style Red Blend   1824\n",
       "17        Germany                    Riesling   1790\n",
       "18             US                    Riesling   1753\n",
       "19      Argentina                      Malbec   1510\n",
       "20          Spain                 Tempranillo   1429\n",
       "21         France             Champagne Blend   1243\n",
       "22        Austria            Grüner Veltliner   1234\n",
       "23       Portugal            Portuguese White   1159\n",
       "24         France  Bordeaux-style White Blend   1021\n",
       "25         France                       Gamay   1020\n",
       "26             US              Cabernet Franc   1003\n",
       "27         France             Sauvignon Blanc    933\n",
       "28             US                        Rosé    907\n",
       "29             US                  Pinot Gris    868\n",
       "..            ...                         ...    ...\n",
       "270       Austria              Weissburgunder     33\n",
       "271        Greece                   Xinomavro     33\n",
       "272         Italy                     Insolia     33\n",
       "273         Italy              Müller-Thurgau     33\n",
       "274         Spain             Sauvignon Blanc     33\n",
       "275            US                      Claret     33\n",
       "276            US                      Muscat     33\n",
       "277     Argentina                 White Blend     32\n",
       "278       Austria                 Pinot Blanc     32\n",
       "279       Georgia                    Saperavi     32\n",
       "280     Australia   Shiraz-Cabernet Sauvignon     31\n",
       "281        France             Tannat-Cabernet     31\n",
       "282         Italy                    Cannonau     31\n",
       "283         Italy                     Zibibbo     31\n",
       "284            US                    Cinsault     31\n",
       "285            US                   Lemberger     31\n",
       "286     Australia                        Rosé     30\n",
       "287         Italy                     Inzolia     30\n",
       "288  South Africa                  Pinot Noir     30\n",
       "289         Spain                    Graciano     30\n",
       "290         Spain        Tempranillo-Garnacha     30\n",
       "291            US                   Carignane     30\n",
       "292     Argentina             Sparkling Blend     29\n",
       "293     Australia    Bordeaux-style Red Blend     29\n",
       "294         Italy                  Catarratto     29\n",
       "295      Portugal                        Baga     29\n",
       "296      Portugal                    Loureiro     29\n",
       "297     Australia                Pinot Grigio     28\n",
       "298         Chile              Cabernet Blend     28\n",
       "299        France     Chenin Blanc-Chardonnay     28\n",
       "\n",
       "[300 rows x 3 columns]"
      ]
     },
     "execution_count": 18,
     "metadata": {},
     "output_type": "execute_result"
    }
   ],
   "source": [
    "top_grape_country = df.groupby(by='country')['varietal'].value_counts().nlargest(300).to_frame('count').reset_index()\n",
    "top_grape_country"
   ]
  },
  {
   "cell_type": "code",
   "execution_count": 19,
   "metadata": {
    "scrolled": true
   },
   "outputs": [
    {
     "name": "stdout",
     "output_type": "stream",
     "text": [
      "Aromas include tropical fruit, broom, brimstone and dried herb. The palate isn't overly expressive, offering unripened apple, citrus and dried sage alongside brisk acidity.\n",
      "\n",
      "\n",
      "This is ripe and fruity, a wine that is smooth while still structured. Firm tannins are filled out with juicy red berry fruits and freshened with acidity. It's  already drinkable, although it will certainly be better from 2016.\n",
      "\n",
      "\n",
      "Tart and snappy, the flavors of lime flesh and rind dominate. Some green pineapple pokes through, with crisp acidity underscoring the flavors. The wine was all stainless-steel fermented.\n",
      "\n",
      "\n",
      "Pineapple rind, lemon pith and orange blossom start off the aromas. The palate is a bit more opulent, with notes of honey-drizzled guava and mango giving way to a slightly astringent, semidry finish.\n",
      "\n",
      "\n",
      "Much like the regular bottling from 2012, this comes across as rather rough and tannic, with rustic, earthy, herbal characteristics. Nonetheless, if you think of it as a pleasantly unfussy country wine, it's a good companion to a hearty winter stew.\n",
      "\n",
      "\n"
     ]
    }
   ],
   "source": [
    "for i in range(5):\n",
    "    print(df['description'][i])\n",
    "    print('\\n')"
   ]
  },
  {
   "cell_type": "code",
   "execution_count": 66,
   "metadata": {},
   "outputs": [
    {
     "name": "stdout",
     "output_type": "stream",
     "text": [
      "['i', 'me', 'my', 'myself', 'we', 'our', 'ours', 'ourselves', 'you', \"you're\", \"you've\", \"you'll\", \"you'd\", 'your', 'yours', 'yourself', 'yourselves', 'he', 'him', 'his', 'himself', 'she', \"she's\", 'her', 'hers', 'herself', 'it', \"it's\", 'its', 'itself', 'they', 'them', 'their', 'theirs', 'themselves', 'what', 'which', 'who', 'whom', 'this', 'that', \"that'll\", 'these', 'those', 'am', 'is', 'are', 'was', 'were', 'be', 'been', 'being', 'have', 'has', 'had', 'having', 'do', 'does', 'did', 'doing', 'a', 'an', 'the', 'and', 'but', 'if', 'or', 'because', 'as', 'until', 'while', 'of', 'at', 'by', 'for', 'with', 'about', 'against', 'between', 'into', 'through', 'during', 'before', 'after', 'above', 'below', 'to', 'from', 'up', 'down', 'in', 'out', 'on', 'off', 'over', 'under', 'again', 'further', 'then', 'once']\n"
     ]
    }
   ],
   "source": [
    "print(nltk.corpus.stopwords.words('english')[:100])"
   ]
  },
  {
   "cell_type": "code",
   "execution_count": 67,
   "metadata": {},
   "outputs": [],
   "source": [
    "def identity_tokenizer(doc):\n",
    "    return doc\n",
    "\n",
    "tfidf = TfidfVectorizer(lowercase=False, tokenizer=identity_tokenizer, token_pattern=None, stop_words=None)"
   ]
  },
  {
   "cell_type": "code",
   "execution_count": 82,
   "metadata": {
    "scrolled": true
   },
   "outputs": [],
   "source": [
    "tfidf_matrix = tfidf.fit_transform(df['tokenized_desc'])"
   ]
  },
  {
   "cell_type": "code",
   "execution_count": 84,
   "metadata": {},
   "outputs": [
    {
     "name": "stdout",
     "output_type": "stream",
     "text": [
      "['…', 'listracs', 'lip-puckering', 'lip-pursing', 'lip-smacker', 'always-excellent', 'lip-staining', 'lip-sticking', 'lipman', 'lipton', 'liquer', 'always-eclectic', 'liqueur-flavored', 'liqueur-sweet', 'liqueur-type', 'liqueured', 'liqueurish', 'liquid-oak', 'liquidy', 'liquor-soaked', 'always-cool', 'liquorous—not', 'always-anticipated', 'liste', 'alvarinhos', 'lip-grabbing', 'lions', 'lionello', 'amaiable', 'limitée', 'limmer', 'limnio/cabernet', 'limnos', 'limousin', 'limít', 'lincourt', 'linda', 'lindemans', 'lindsay', 'linearly', 'linking', 'amador-based', 'amadieu', 'lineups', 'lingeirng', 'lingenfelder', 'alzheimer', 'lingeringly', 'lingering—drink', 'lingerirg']\n"
     ]
    }
   ],
   "source": [
    "def get_top_features(tfidf, n=50):\n",
    "    \"\"\"Return top n features from a tfidf model\"\"\"\n",
    "    indices = np.argsort(tfidf.idf_)[::-1]\n",
    "    features = tfidf.get_feature_names()\n",
    "    top_n = 50\n",
    "    top_features = [features[i] for i in indices[:top_n]]\n",
    "    print(top_features)\n",
    "    return top_features"
   ]
  },
  {
   "cell_type": "code",
   "execution_count": 55,
   "metadata": {},
   "outputs": [],
   "source": [
    "top = df[df['country'].isin(top_grape_country['country']) & df['varietal'].isin(top_grape_country['varietal'])]\n",
    "# remember to use & not 'and'. The latter will try to compare Series --> ambiguous truth value"
   ]
  },
  {
   "cell_type": "code",
   "execution_count": 22,
   "metadata": {},
   "outputs": [
    {
     "data": {
      "text/plain": [
       "0.9660847419809034"
      ]
     },
     "execution_count": 22,
     "metadata": {},
     "output_type": "execute_result"
    }
   ],
   "source": [
    "len(top)/len(df)"
   ]
  },
  {
   "cell_type": "code",
   "execution_count": 23,
   "metadata": {
    "scrolled": false
   },
   "outputs": [
    {
     "data": {
      "text/plain": [
       "1612"
      ]
     },
     "execution_count": 23,
     "metadata": {},
     "output_type": "execute_result"
    }
   ],
   "source": [
    "len(df.groupby(by='country')['varietal'].value_counts())"
   ]
  },
  {
   "cell_type": "markdown",
   "metadata": {},
   "source": [
    "Picking out the top 300 most common grapes + country combination out of 1612 possible values still leaves us with 96% of the bottles."
   ]
  }
 ],
 "metadata": {
  "kernelspec": {
   "display_name": "davinci",
   "language": "python",
   "name": "davinci"
  },
  "language_info": {
   "codemirror_mode": {
    "name": "ipython",
    "version": 3
   },
   "file_extension": ".py",
   "mimetype": "text/x-python",
   "name": "python",
   "nbconvert_exporter": "python",
   "pygments_lexer": "ipython3",
   "version": "3.6.6"
  }
 },
 "nbformat": 4,
 "nbformat_minor": 2
}
